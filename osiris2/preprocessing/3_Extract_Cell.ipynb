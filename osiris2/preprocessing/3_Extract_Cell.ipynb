{
 "cells": [
  {
   "cell_type": "markdown",
   "metadata": {},
   "source": [
    "# Extract Cell (row, column) from Position\n",
    "\n",
    "**INPUT**\n",
    "* `resources/ais_data_discretized.csv`\n",
    "\n",
    "**OUTPUT**\n",
    "* `resources/ais_data_discretized_0.1.csv` with 0.1 equal to the default cell size"
   ]
  },
  {
   "cell_type": "code",
   "execution_count": 1,
   "metadata": {},
   "outputs": [],
   "source": [
    "cx = 0.1 # cell size"
   ]
  },
  {
   "cell_type": "code",
   "execution_count": null,
   "metadata": {},
   "outputs": [],
   "source": [
    "import pandas as pd\n",
    "\n",
    "df = pd.read_csv('resources/ais_data_discretized.csv')"
   ]
  },
  {
   "cell_type": "code",
   "execution_count": 89,
   "metadata": {},
   "outputs": [],
   "source": [
    "from math import floor\n",
    "from math import copysign\n",
    "\n",
    "def get_position(x,ctype,cx):\n",
    "    if cx > 0:\n",
    "        if ctype == \"lng\":\n",
    "            xg = floor(copysign((abs(x)%180),x)/cx)\n",
    "            if xg == -0:\n",
    "                xg = 0 \n",
    "        else:\n",
    "            xg = floor(x/cx)\n",
    "    else:\n",
    "        xg = -1\n",
    "    return xg"
   ]
  },
  {
   "cell_type": "code",
   "execution_count": null,
   "metadata": {},
   "outputs": [],
   "source": [
    "df['row'] = df['latitude'].apply(lambda x: get_position(x,'lat',cx))\n",
    "df['column'] = df['longitude'].apply(lambda x: get_position(x,'lng',cx))"
   ]
  },
  {
   "cell_type": "code",
   "execution_count": 90,
   "metadata": {},
   "outputs": [],
   "source": [
    "#df.drop(columns=['longitude', 'latitude'], axis=1,inplace=True)"
   ]
  },
  {
   "cell_type": "code",
   "execution_count": 92,
   "metadata": {},
   "outputs": [],
   "source": [
    "df.to_csv('resources/ais_data_discretized_' + str(cx) + '.csv')"
   ]
  }
 ],
 "metadata": {
  "kernelspec": {
   "display_name": "Python 3 (ipykernel)",
   "language": "python",
   "name": "python3"
  },
  "language_info": {
   "codemirror_mode": {
    "name": "ipython",
    "version": 3
   },
   "file_extension": ".py",
   "mimetype": "text/x-python",
   "name": "python",
   "nbconvert_exporter": "python",
   "pygments_lexer": "ipython3",
   "version": "3.8.10"
  }
 },
 "nbformat": 4,
 "nbformat_minor": 4
}
