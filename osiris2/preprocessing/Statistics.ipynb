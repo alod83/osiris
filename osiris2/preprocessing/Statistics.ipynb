{
 "cells": [
  {
   "cell_type": "code",
   "execution_count": 59,
   "metadata": {},
   "outputs": [
    {
     "data": {
      "text/plain": [
       "(38017576, 8)"
      ]
     },
     "execution_count": 59,
     "metadata": {},
     "output_type": "execute_result"
    }
   ],
   "source": [
    "import pandas as pd\n",
    "#df = pd.read_csv('source/ais_data_discretized.csv', nrows=100000)\n",
    "df = pd.read_csv('source/ais_data_deduplicated.csv')\n",
    "df.shape"
   ]
  },
  {
   "cell_type": "code",
   "execution_count": 149,
   "metadata": {},
   "outputs": [
    {
     "data": {
      "text/html": [
       "<div>\n",
       "<style scoped>\n",
       "    .dataframe tbody tr th:only-of-type {\n",
       "        vertical-align: middle;\n",
       "    }\n",
       "\n",
       "    .dataframe tbody tr th {\n",
       "        vertical-align: top;\n",
       "    }\n",
       "\n",
       "    .dataframe thead th {\n",
       "        text-align: right;\n",
       "    }\n",
       "</style>\n",
       "<table border=\"1\" class=\"dataframe\">\n",
       "  <thead>\n",
       "    <tr style=\"text-align: right;\">\n",
       "      <th></th>\n",
       "      <th>Unnamed: 0</th>\n",
       "      <th>date_time</th>\n",
       "      <th>mmsi</th>\n",
       "      <th>course</th>\n",
       "      <th>speed</th>\n",
       "      <th>longitude</th>\n",
       "      <th>latitude</th>\n",
       "      <th>class</th>\n",
       "    </tr>\n",
       "  </thead>\n",
       "  <tbody>\n",
       "    <tr>\n",
       "      <th>0</th>\n",
       "      <td>0</td>\n",
       "      <td>2017-09-06 08:13:15+00:00</td>\n",
       "      <td>247144390</td>\n",
       "      <td>0.142857</td>\n",
       "      <td>0.333333</td>\n",
       "      <td>12.68286</td>\n",
       "      <td>37.23098</td>\n",
       "      <td>0</td>\n",
       "    </tr>\n",
       "    <tr>\n",
       "      <th>1</th>\n",
       "      <td>1</td>\n",
       "      <td>2017-09-06 08:13:15+00:00</td>\n",
       "      <td>247100100</td>\n",
       "      <td>0.285714</td>\n",
       "      <td>0.000000</td>\n",
       "      <td>12.69433</td>\n",
       "      <td>33.75967</td>\n",
       "      <td>1</td>\n",
       "    </tr>\n",
       "    <tr>\n",
       "      <th>2</th>\n",
       "      <td>2</td>\n",
       "      <td>2017-09-06 08:04:09+00:00</td>\n",
       "      <td>247300080</td>\n",
       "      <td>0.428571</td>\n",
       "      <td>0.333333</td>\n",
       "      <td>12.70149</td>\n",
       "      <td>35.52302</td>\n",
       "      <td>0</td>\n",
       "    </tr>\n",
       "    <tr>\n",
       "      <th>3</th>\n",
       "      <td>3</td>\n",
       "      <td>2017-09-06 08:12:14+00:00</td>\n",
       "      <td>247305840</td>\n",
       "      <td>0.714286</td>\n",
       "      <td>0.000000</td>\n",
       "      <td>12.70958</td>\n",
       "      <td>36.91732</td>\n",
       "      <td>0</td>\n",
       "    </tr>\n",
       "    <tr>\n",
       "      <th>4</th>\n",
       "      <td>4</td>\n",
       "      <td>2017-09-06 08:02:08+00:00</td>\n",
       "      <td>247306530</td>\n",
       "      <td>0.571429</td>\n",
       "      <td>0.000000</td>\n",
       "      <td>12.73139</td>\n",
       "      <td>36.90751</td>\n",
       "      <td>0</td>\n",
       "    </tr>\n",
       "  </tbody>\n",
       "</table>\n",
       "</div>"
      ],
      "text/plain": [
       "   Unnamed: 0                  date_time       mmsi    course     speed  \\\n",
       "0           0  2017-09-06 08:13:15+00:00  247144390  0.142857  0.333333   \n",
       "1           1  2017-09-06 08:13:15+00:00  247100100  0.285714  0.000000   \n",
       "2           2  2017-09-06 08:04:09+00:00  247300080  0.428571  0.333333   \n",
       "3           3  2017-09-06 08:12:14+00:00  247305840  0.714286  0.000000   \n",
       "4           4  2017-09-06 08:02:08+00:00  247306530  0.571429  0.000000   \n",
       "\n",
       "   longitude  latitude  class  \n",
       "0   12.68286  37.23098      0  \n",
       "1   12.69433  33.75967      1  \n",
       "2   12.70149  35.52302      0  \n",
       "3   12.70958  36.91732      0  \n",
       "4   12.73139  36.90751      0  "
      ]
     },
     "execution_count": 149,
     "metadata": {},
     "output_type": "execute_result"
    }
   ],
   "source": [
    "df.head()"
   ]
  },
  {
   "cell_type": "markdown",
   "metadata": {},
   "source": [
    "# Number of ships with appear just once"
   ]
  },
  {
   "cell_type": "code",
   "execution_count": 3,
   "metadata": {},
   "outputs": [],
   "source": [
    "v = df['mmsi'].value_counts()"
   ]
  },
  {
   "cell_type": "code",
   "execution_count": 8,
   "metadata": {},
   "outputs": [
    {
     "data": {
      "text/plain": [
       "778"
      ]
     },
     "execution_count": 8,
     "metadata": {},
     "output_type": "execute_result"
    }
   ],
   "source": [
    "a = (v == 1).sum()\n",
    "a"
   ]
  },
  {
   "cell_type": "code",
   "execution_count": 9,
   "metadata": {},
   "outputs": [
    {
     "data": {
      "text/plain": [
       "13372"
      ]
     },
     "execution_count": 9,
     "metadata": {},
     "output_type": "execute_result"
    }
   ],
   "source": [
    "b = (v > 1).sum()\n",
    "b"
   ]
  },
  {
   "cell_type": "code",
   "execution_count": 10,
   "metadata": {},
   "outputs": [
    {
     "data": {
      "text/plain": [
       "14150"
      ]
     },
     "execution_count": 10,
     "metadata": {},
     "output_type": "execute_result"
    }
   ],
   "source": [
    "a + b"
   ]
  },
  {
   "cell_type": "code",
   "execution_count": 11,
   "metadata": {},
   "outputs": [
    {
     "data": {
      "text/plain": [
       "0.05498233215547703"
      ]
     },
     "execution_count": 11,
     "metadata": {},
     "output_type": "execute_result"
    }
   ],
   "source": [
    "a/(a+b)"
   ]
  },
  {
   "cell_type": "markdown",
   "metadata": {},
   "source": [
    "# Record frequency by MMSI"
   ]
  },
  {
   "cell_type": "code",
   "execution_count": 141,
   "metadata": {},
   "outputs": [
    {
     "data": {
      "image/png": "[encoded data removed]",
      "text/plain": [
       "<Figure size 432x288 with 1 Axes>"
      ]
     },
     "metadata": {
      "needs_background": "light"
     },
     "output_type": "display_data"
    }
   ],
   "source": [
    "df['mmsi'].value_counts().plot.bar()\n",
    "plt.xticks(rotation=90)\n",
    "plt.show()"
   ]
  },
  {
   "cell_type": "markdown",
   "metadata": {},
   "source": [
    "# Binning"
   ]
  },
  {
   "cell_type": "code",
   "execution_count": 60,
   "metadata": {},
   "outputs": [],
   "source": [
    "v = df['mmsi'].value_counts()"
   ]
  },
  {
   "cell_type": "code",
   "execution_count": 81,
   "metadata": {},
   "outputs": [
    {
     "data": {
      "text/plain": [
       "371158000    175759\n",
       "215788000    156440\n",
       "248692000    139199\n",
       "248230000    130829\n",
       "256000113    125583\n",
       "Name: mmsi, dtype: int64"
      ]
     },
     "execution_count": 81,
     "metadata": {},
     "output_type": "execute_result"
    }
   ],
   "source": [
    "df2 = v.to_frame()"
   ]
  },
  {
   "cell_type": "code",
   "execution_count": 143,
   "metadata": {},
   "outputs": [],
   "source": [
    "import numpy as np\n",
    "min_value = df2['mmsi'].min()\n",
    "max_value = df2['mmsi'].max()\n",
    "\n",
    "labels = [\"1-100\", \"100-500\", \"500-1000\", \"1000-2500\", \"2500-5000\",\"5000-10000\", \">10000\"]\n",
    "bins = [1, 100,500,1000,2500,5000,10000, max_value]"
   ]
  },
  {
   "cell_type": "code",
   "execution_count": 144,
   "metadata": {},
   "outputs": [],
   "source": [
    "df2['binned'] = pd.cut(df2['mmsi'], bins=bins, labels=labels,include_lowest=True)"
   ]
  },
  {
   "cell_type": "code",
   "execution_count": 145,
   "metadata": {},
   "outputs": [
    {
     "data": {
      "text/plain": [
       "371158000    >10000\n",
       "215788000    >10000\n",
       "248692000    >10000\n",
       "248230000    >10000\n",
       "256000113    >10000\n",
       "              ...  \n",
       "538012429     1-100\n",
       "371743760     1-100\n",
       "538093377     1-100\n",
       "970117066     1-100\n",
       "304126979     1-100\n",
       "Name: binned, Length: 14150, dtype: category\n",
       "Categories (7, object): [1-100 < 100-500 < 500-1000 < 1000-2500 < 2500-5000 < 5000-10000 < >10000]"
      ]
     },
     "execution_count": 145,
     "metadata": {},
     "output_type": "execute_result"
    }
   ],
   "source": [
    "df2['binned']"
   ]
  },
  {
   "cell_type": "code",
   "execution_count": 146,
   "metadata": {},
   "outputs": [
    {
     "data": {
      "text/plain": [
       "(1, 175759)"
      ]
     },
     "execution_count": 146,
     "metadata": {},
     "output_type": "execute_result"
    }
   ],
   "source": [
    "min_value, max_value"
   ]
  },
  {
   "cell_type": "code",
   "execution_count": 147,
   "metadata": {},
   "outputs": [
    {
     "data": {
      "image/png": "[encoded data removed]",
      "text/plain": [
       "<Figure size 432x288 with 1 Axes>"
      ]
     },
     "metadata": {
      "needs_background": "light"
     },
     "output_type": "display_data"
    }
   ],
   "source": [
    "df2['binned'].value_counts().loc[labels].plot.bar()\n",
    "plt.xlabel('Number of records divided in bins')\n",
    "plt.ylabel('number of Ships')\n",
    "plt.xticks(rotation=90)\n",
    "plt.show()"
   ]
  },
  {
   "cell_type": "code",
   "execution_count": 142,
   "metadata": {},
   "outputs": [
    {
     "data": {
      "text/plain": [
       "1000-5000     5201\n",
       "100-500       2949\n",
       "500-1000      2439\n",
       "1-100         2044\n",
       "5000-10000     802\n",
       ">10000         715\n",
       "Name: binned, dtype: int64"
      ]
     },
     "execution_count": 142,
     "metadata": {},
     "output_type": "execute_result"
    }
   ],
   "source": [
    "df2['binned'].value_counts()"
   ]
  },
  {
   "cell_type": "code",
   "execution_count": 148,
   "metadata": {},
   "outputs": [
    {
     "data": {
      "text/plain": [
       "14150"
      ]
     },
     "execution_count": 148,
     "metadata": {},
     "output_type": "execute_result"
    }
   ],
   "source": [
    "df2['binned'].value_counts().sum()"
   ]
  },
  {
   "cell_type": "markdown",
   "metadata": {},
   "source": [
    "# Range row and column"
   ]
  },
  {
   "cell_type": "code",
   "execution_count": 150,
   "metadata": {},
   "outputs": [
    {
     "data": {
      "text/html": [
       "<div>\n",
       "<style scoped>\n",
       "    .dataframe tbody tr th:only-of-type {\n",
       "        vertical-align: middle;\n",
       "    }\n",
       "\n",
       "    .dataframe tbody tr th {\n",
       "        vertical-align: top;\n",
       "    }\n",
       "\n",
       "    .dataframe thead th {\n",
       "        text-align: right;\n",
       "    }\n",
       "</style>\n",
       "<table border=\"1\" class=\"dataframe\">\n",
       "  <thead>\n",
       "    <tr style=\"text-align: right;\">\n",
       "      <th></th>\n",
       "      <th>Unnamed: 0</th>\n",
       "      <th>Unnamed: 0.1</th>\n",
       "      <th>Unnamed: 0.1.1</th>\n",
       "      <th>class</th>\n",
       "      <th>column</th>\n",
       "      <th>course</th>\n",
       "      <th>date_time</th>\n",
       "      <th>index</th>\n",
       "      <th>latitude</th>\n",
       "      <th>longitude</th>\n",
       "      <th>mmsi</th>\n",
       "      <th>next_status_60_column</th>\n",
       "      <th>next_status_60_date_time</th>\n",
       "      <th>next_status_60_row</th>\n",
       "      <th>row</th>\n",
       "      <th>speed</th>\n",
       "    </tr>\n",
       "  </thead>\n",
       "  <tbody>\n",
       "    <tr>\n",
       "      <th>0</th>\n",
       "      <td>13</td>\n",
       "      <td>13</td>\n",
       "      <td>13.0</td>\n",
       "      <td>0.0</td>\n",
       "      <td>126.0</td>\n",
       "      <td>0.571429</td>\n",
       "      <td>2016-10-26 00:20:28+00:00</td>\n",
       "      <td>15568808.0</td>\n",
       "      <td>35.35294</td>\n",
       "      <td>12.63126</td>\n",
       "      <td>111247508.0</td>\n",
       "      <td>129.0</td>\n",
       "      <td>2016-10-26 01:20:27+00:00</td>\n",
       "      <td>340.0</td>\n",
       "      <td>353.0</td>\n",
       "      <td>0.666667</td>\n",
       "    </tr>\n",
       "    <tr>\n",
       "      <th>1</th>\n",
       "      <td>14</td>\n",
       "      <td>14</td>\n",
       "      <td>14.0</td>\n",
       "      <td>0.0</td>\n",
       "      <td>126.0</td>\n",
       "      <td>0.571429</td>\n",
       "      <td>2016-10-26 00:23:29+00:00</td>\n",
       "      <td>15568993.0</td>\n",
       "      <td>35.35294</td>\n",
       "      <td>12.63126</td>\n",
       "      <td>111247508.0</td>\n",
       "      <td>129.0</td>\n",
       "      <td>2016-10-26 01:23:29+00:00</td>\n",
       "      <td>340.0</td>\n",
       "      <td>353.0</td>\n",
       "      <td>0.666667</td>\n",
       "    </tr>\n",
       "    <tr>\n",
       "      <th>2</th>\n",
       "      <td>15</td>\n",
       "      <td>15</td>\n",
       "      <td>15.0</td>\n",
       "      <td>0.0</td>\n",
       "      <td>127.0</td>\n",
       "      <td>0.571429</td>\n",
       "      <td>2016-10-26 00:35:27+00:00</td>\n",
       "      <td>15569644.0</td>\n",
       "      <td>34.95978</td>\n",
       "      <td>12.71980</td>\n",
       "      <td>111247508.0</td>\n",
       "      <td>129.0</td>\n",
       "      <td>2016-10-26 01:35:18+00:00</td>\n",
       "      <td>340.0</td>\n",
       "      <td>349.0</td>\n",
       "      <td>0.666667</td>\n",
       "    </tr>\n",
       "    <tr>\n",
       "      <th>3</th>\n",
       "      <td>16</td>\n",
       "      <td>16</td>\n",
       "      <td>16.0</td>\n",
       "      <td>0.0</td>\n",
       "      <td>128.0</td>\n",
       "      <td>0.571429</td>\n",
       "      <td>2016-10-26 00:56:17+00:00</td>\n",
       "      <td>15570855.0</td>\n",
       "      <td>34.21719</td>\n",
       "      <td>12.88836</td>\n",
       "      <td>111247508.0</td>\n",
       "      <td>128.0</td>\n",
       "      <td>2016-10-26 01:56:21+00:00</td>\n",
       "      <td>342.0</td>\n",
       "      <td>342.0</td>\n",
       "      <td>0.333333</td>\n",
       "    </tr>\n",
       "    <tr>\n",
       "      <th>4</th>\n",
       "      <td>17</td>\n",
       "      <td>17</td>\n",
       "      <td>17.0</td>\n",
       "      <td>0.0</td>\n",
       "      <td>129.0</td>\n",
       "      <td>0.000000</td>\n",
       "      <td>2016-10-26 01:11:10+00:00</td>\n",
       "      <td>15571708.0</td>\n",
       "      <td>34.01085</td>\n",
       "      <td>12.97691</td>\n",
       "      <td>111247508.0</td>\n",
       "      <td>127.0</td>\n",
       "      <td>2016-10-26 02:11:24+00:00</td>\n",
       "      <td>348.0</td>\n",
       "      <td>340.0</td>\n",
       "      <td>0.333333</td>\n",
       "    </tr>\n",
       "  </tbody>\n",
       "</table>\n",
       "</div>"
      ],
      "text/plain": [
       "   Unnamed: 0  Unnamed: 0.1  Unnamed: 0.1.1  class  column    course  \\\n",
       "0          13            13            13.0    0.0   126.0  0.571429   \n",
       "1          14            14            14.0    0.0   126.0  0.571429   \n",
       "2          15            15            15.0    0.0   127.0  0.571429   \n",
       "3          16            16            16.0    0.0   128.0  0.571429   \n",
       "4          17            17            17.0    0.0   129.0  0.000000   \n",
       "\n",
       "                   date_time       index  latitude  longitude         mmsi  \\\n",
       "0  2016-10-26 00:20:28+00:00  15568808.0  35.35294   12.63126  111247508.0   \n",
       "1  2016-10-26 00:23:29+00:00  15568993.0  35.35294   12.63126  111247508.0   \n",
       "2  2016-10-26 00:35:27+00:00  15569644.0  34.95978   12.71980  111247508.0   \n",
       "3  2016-10-26 00:56:17+00:00  15570855.0  34.21719   12.88836  111247508.0   \n",
       "4  2016-10-26 01:11:10+00:00  15571708.0  34.01085   12.97691  111247508.0   \n",
       "\n",
       "   next_status_60_column   next_status_60_date_time  next_status_60_row  \\\n",
       "0                  129.0  2016-10-26 01:20:27+00:00               340.0   \n",
       "1                  129.0  2016-10-26 01:23:29+00:00               340.0   \n",
       "2                  129.0  2016-10-26 01:35:18+00:00               340.0   \n",
       "3                  128.0  2016-10-26 01:56:21+00:00               342.0   \n",
       "4                  127.0  2016-10-26 02:11:24+00:00               348.0   \n",
       "\n",
       "     row     speed  \n",
       "0  353.0  0.666667  \n",
       "1  353.0  0.666667  \n",
       "2  349.0  0.666667  \n",
       "3  342.0  0.333333  \n",
       "4  340.0  0.333333  "
      ]
     },
     "execution_count": 150,
     "metadata": {},
     "output_type": "execute_result"
    }
   ],
   "source": [
    "import pandas as pd\n",
    "#df = pd.read_csv('source/ais_data_discretized.csv', nrows=100000)\n",
    "df = pd.read_csv('source/ais_data_next_status_60.csv')\n",
    "df.head()"
   ]
  },
  {
   "cell_type": "code",
   "execution_count": 151,
   "metadata": {},
   "outputs": [
    {
     "data": {
      "text/plain": [
       "54.0"
      ]
     },
     "execution_count": 151,
     "metadata": {},
     "output_type": "execute_result"
    }
   ],
   "source": [
    "rmin = df['row'].min()\n",
    "rmax = df['row'].max()\n",
    "rmax - rmin"
   ]
  },
  {
   "cell_type": "code",
   "execution_count": 152,
   "metadata": {},
   "outputs": [
    {
     "data": {
      "text/plain": [
       "61.0"
      ]
     },
     "execution_count": 152,
     "metadata": {},
     "output_type": "execute_result"
    }
   ],
   "source": [
    "cmin = df['column'].min()\n",
    "cmax = df['column'].max()\n",
    "cmax - cmin"
   ]
  },
  {
   "cell_type": "code",
   "execution_count": 153,
   "metadata": {},
   "outputs": [
    {
     "data": {
      "text/plain": [
       "(323.0, 377.0, 99.0, 160.0)"
      ]
     },
     "execution_count": 153,
     "metadata": {},
     "output_type": "execute_result"
    }
   ],
   "source": [
    "rmin,rmax, cmin,cmax"
   ]
  },
  {
   "cell_type": "code",
   "execution_count": null,
   "metadata": {},
   "outputs": [],
   "source": []
  }
 ],
 "metadata": {
  "kernelspec": {
   "display_name": "Python 3",
   "language": "python",
   "name": "python3"
  },
  "language_info": {
   "codemirror_mode": {
    "name": "ipython",
    "version": 3
   },
   "file_extension": ".py",
   "mimetype": "text/x-python",
   "name": "python",
   "nbconvert_exporter": "python",
   "pygments_lexer": "ipython3",
   "version": "3.8.1"
  }
 },
 "nbformat": 4,
 "nbformat_minor": 4
}
