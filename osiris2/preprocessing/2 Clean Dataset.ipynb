{
 "cells": [
  {
   "cell_type": "markdown",
   "metadata": {},
   "source": [
    "# SRP Dataset Analysis\n",
    "\n",
    "Dump of DB dati_ais_with_ts on CSV\n",
    "`COPY (\n",
    "SELECT date_time,mmsi,course,speed,heading,a,b,c,d,ST_X (ST_Transform (geom, 4326)) as longitude, ST_Y (ST_Transform (geom, 4326)) as latitude,source FROM ais_data\n",
    ") TO '/home/angelica/ais_data_small.csv' WITH CSV HEADER DELIMITER ',';`\n",
    "This notebook analyses the dataset ais_data_clean contained in the postgres database dati_ais2."
   ]
  },
  {
   "cell_type": "code",
   "execution_count": 8,
   "metadata": {},
   "outputs": [
    {
     "name": "stdout",
     "output_type": "stream",
     "text": [
      "\u001b[22;0t\u001b]0;IPython: Code/SRP\u0007Python 3.8.1 (v3.8.1:1b293b6006, Dec 18 2019, 14:08:53) \n",
      "Type 'copyright', 'credits' or 'license' for more information\n",
      "IPython 7.12.0 -- An enhanced Interactive Python. Type '?' for help.\n",
      "\n",
      "\u001b[8C\u001b[?7h\u001b[0m\u001b[?12l\u001b[?25h\u001b[8D\u001b[J\u001b[0m\u001b[?7h\u001b[?2004l\u001b[?1lWARNING: your terminal doesn't support cursor position requests (CPR).                               \n",
      "\u001b[0mC ?7h\u001b[0m\u001b[?12l\u001b[?25h0m\u001b[J\u001b[0;38;5;28mIn [\u001b[0;92;1m1\u001b[0;38;5;28m]: \u001b[0m                                                                       \u001b[?25l\u001b[?7l\u001b[8D\u001b[0m\u001b[J\u001b[0;38;5;28mIn [\u001b[0;92;1m1\u001b[0;38;5;28m]: \u001b[0m                                                                       \n",
      "\u001b[J\u001b[?7h\u001b[0m\u001b[?12l\u001b[?25h\u001b[?2004l\n",
      "\u001b[8C\u001b[?7h\u001b[0m\u001b[?12l\u001b[?25h?7l\u001b[0m\u001b[J\u001b[0;38;5;28mIn [\u001b[0;92;1m1\u001b[0;38;5;28m]: \u001b[0m                                                                       "
     ]
    }
   ],
   "source": [
    "!ipython --cache-size=5"
   ]
  },
  {
   "cell_type": "markdown",
   "metadata": {},
   "source": [
    "# Cleaning\n",
    "* speed less than 0.1\n",
    "* speed greater than 60 - capire quanti dati sono e se correggere\n",
    "* data related to bosforo (data 2015-12-27)\n",
    "* heading > 360 - capire quanti sono e se correggere\n",
    "* records where a mmsi is present only once"
   ]
  },
  {
   "cell_type": "code",
   "execution_count": 2,
   "metadata": {},
   "outputs": [
    {
     "data": {
      "text/plain": [
       "(76039396, 11)"
      ]
     },
     "execution_count": 2,
     "metadata": {},
     "output_type": "execute_result"
    }
   ],
   "source": [
    "import pandas as pd\n",
    "df = pd.read_csv('source/ais_data_clean_ts.csv')\n",
    "df.shape"
   ]
  },
  {
   "cell_type": "code",
   "execution_count": 3,
   "metadata": {},
   "outputs": [
    {
     "data": {
      "text/plain": [
       "Index(['Unnamed: 0', 'date_time', 'mmsi', 'course', 'speed', 'a', 'b', 'c',\n",
       "       'd', 'longitude', 'latitude'],\n",
       "      dtype='object')"
      ]
     },
     "execution_count": 3,
     "metadata": {},
     "output_type": "execute_result"
    }
   ],
   "source": [
    "df.columns"
   ]
  },
  {
   "cell_type": "code",
   "execution_count": 4,
   "metadata": {},
   "outputs": [],
   "source": [
    "df.drop(columns=['Unnamed: 0'], axis=1,inplace=True)"
   ]
  },
  {
   "cell_type": "code",
   "execution_count": 5,
   "metadata": {},
   "outputs": [
    {
     "data": {
      "text/html": [
       "<div>\n",
       "<style scoped>\n",
       "    .dataframe tbody tr th:only-of-type {\n",
       "        vertical-align: middle;\n",
       "    }\n",
       "\n",
       "    .dataframe tbody tr th {\n",
       "        vertical-align: top;\n",
       "    }\n",
       "\n",
       "    .dataframe thead th {\n",
       "        text-align: right;\n",
       "    }\n",
       "</style>\n",
       "<table border=\"1\" class=\"dataframe\">\n",
       "  <thead>\n",
       "    <tr style=\"text-align: right;\">\n",
       "      <th></th>\n",
       "      <th>date_time</th>\n",
       "      <th>mmsi</th>\n",
       "      <th>course</th>\n",
       "      <th>speed</th>\n",
       "      <th>a</th>\n",
       "      <th>b</th>\n",
       "      <th>c</th>\n",
       "      <th>d</th>\n",
       "      <th>longitude</th>\n",
       "      <th>latitude</th>\n",
       "    </tr>\n",
       "  </thead>\n",
       "  <tbody>\n",
       "    <tr>\n",
       "      <th>0</th>\n",
       "      <td>2017-09-06 08:13:15+00:00</td>\n",
       "      <td>247144390</td>\n",
       "      <td>46.0</td>\n",
       "      <td>3.2</td>\n",
       "      <td>10.0</td>\n",
       "      <td>15.0</td>\n",
       "      <td>2.0</td>\n",
       "      <td>5.0</td>\n",
       "      <td>12.68286</td>\n",
       "      <td>37.23098</td>\n",
       "    </tr>\n",
       "    <tr>\n",
       "      <th>1</th>\n",
       "      <td>2017-09-06 08:13:15+00:00</td>\n",
       "      <td>247100100</td>\n",
       "      <td>96.0</td>\n",
       "      <td>0.9</td>\n",
       "      <td>12.0</td>\n",
       "      <td>60.0</td>\n",
       "      <td>10.0</td>\n",
       "      <td>6.0</td>\n",
       "      <td>12.69433</td>\n",
       "      <td>33.75967</td>\n",
       "    </tr>\n",
       "    <tr>\n",
       "      <th>2</th>\n",
       "      <td>2017-09-06 08:04:09+00:00</td>\n",
       "      <td>247300080</td>\n",
       "      <td>154.0</td>\n",
       "      <td>9.0</td>\n",
       "      <td>8.0</td>\n",
       "      <td>14.0</td>\n",
       "      <td>2.0</td>\n",
       "      <td>3.0</td>\n",
       "      <td>12.70149</td>\n",
       "      <td>35.52302</td>\n",
       "    </tr>\n",
       "    <tr>\n",
       "      <th>3</th>\n",
       "      <td>2017-09-06 08:12:14+00:00</td>\n",
       "      <td>247305840</td>\n",
       "      <td>213.0</td>\n",
       "      <td>0.5</td>\n",
       "      <td>8.0</td>\n",
       "      <td>13.0</td>\n",
       "      <td>2.0</td>\n",
       "      <td>4.0</td>\n",
       "      <td>12.70958</td>\n",
       "      <td>36.91732</td>\n",
       "    </tr>\n",
       "    <tr>\n",
       "      <th>4</th>\n",
       "      <td>2017-09-06 08:02:08+00:00</td>\n",
       "      <td>247306530</td>\n",
       "      <td>202.0</td>\n",
       "      <td>2.5</td>\n",
       "      <td>11.0</td>\n",
       "      <td>11.0</td>\n",
       "      <td>3.0</td>\n",
       "      <td>2.0</td>\n",
       "      <td>12.73139</td>\n",
       "      <td>36.90751</td>\n",
       "    </tr>\n",
       "  </tbody>\n",
       "</table>\n",
       "</div>"
      ],
      "text/plain": [
       "                   date_time       mmsi  course  speed     a     b     c    d  \\\n",
       "0  2017-09-06 08:13:15+00:00  247144390    46.0    3.2  10.0  15.0   2.0  5.0   \n",
       "1  2017-09-06 08:13:15+00:00  247100100    96.0    0.9  12.0  60.0  10.0  6.0   \n",
       "2  2017-09-06 08:04:09+00:00  247300080   154.0    9.0   8.0  14.0   2.0  3.0   \n",
       "3  2017-09-06 08:12:14+00:00  247305840   213.0    0.5   8.0  13.0   2.0  4.0   \n",
       "4  2017-09-06 08:02:08+00:00  247306530   202.0    2.5  11.0  11.0   3.0  2.0   \n",
       "\n",
       "   longitude  latitude  \n",
       "0   12.68286  37.23098  \n",
       "1   12.69433  33.75967  \n",
       "2   12.70149  35.52302  \n",
       "3   12.70958  36.91732  \n",
       "4   12.73139  36.90751  "
      ]
     },
     "execution_count": 5,
     "metadata": {},
     "output_type": "execute_result"
    }
   ],
   "source": [
    "df.head()"
   ]
  },
  {
   "cell_type": "code",
   "execution_count": 6,
   "metadata": {},
   "outputs": [],
   "source": [
    "df['date_time'] = pd.to_datetime(df['date_time'])"
   ]
  },
  {
   "cell_type": "code",
   "execution_count": 7,
   "metadata": {},
   "outputs": [
    {
     "data": {
      "text/plain": [
       "Timestamp('2016-07-06 09:00:36+0000', tz='UTC')"
      ]
     },
     "execution_count": 7,
     "metadata": {},
     "output_type": "execute_result"
    }
   ],
   "source": [
    "df['date_time'].min()"
   ]
  },
  {
   "cell_type": "code",
   "execution_count": 8,
   "metadata": {},
   "outputs": [
    {
     "data": {
      "text/plain": [
       "Timestamp('2017-12-24 21:59:32+0000', tz='UTC')"
      ]
     },
     "execution_count": 8,
     "metadata": {},
     "output_type": "execute_result"
    }
   ],
   "source": [
    "df['date_time'].max()"
   ]
  },
  {
   "cell_type": "code",
   "execution_count": 6,
   "metadata": {
    "scrolled": true
   },
   "outputs": [
    {
     "data": {
      "text/html": [
       "<div>\n",
       "<style scoped>\n",
       "    .dataframe tbody tr th:only-of-type {\n",
       "        vertical-align: middle;\n",
       "    }\n",
       "\n",
       "    .dataframe tbody tr th {\n",
       "        vertical-align: top;\n",
       "    }\n",
       "\n",
       "    .dataframe thead th {\n",
       "        text-align: right;\n",
       "    }\n",
       "</style>\n",
       "<table border=\"1\" class=\"dataframe\">\n",
       "  <thead>\n",
       "    <tr style=\"text-align: right;\">\n",
       "      <th></th>\n",
       "      <th>date_time</th>\n",
       "      <th>mmsi</th>\n",
       "      <th>course</th>\n",
       "      <th>speed</th>\n",
       "      <th>heading</th>\n",
       "      <th>a</th>\n",
       "      <th>b</th>\n",
       "      <th>c</th>\n",
       "      <th>d</th>\n",
       "      <th>longitude</th>\n",
       "      <th>latitude</th>\n",
       "    </tr>\n",
       "  </thead>\n",
       "  <tbody>\n",
       "    <tr>\n",
       "      <th>0</th>\n",
       "      <td>2016-11-06 21:42:31</td>\n",
       "      <td>538080045</td>\n",
       "      <td>249.1</td>\n",
       "      <td>0.0</td>\n",
       "      <td>251.0</td>\n",
       "      <td>32.0</td>\n",
       "      <td>9.0</td>\n",
       "      <td>5.0</td>\n",
       "      <td>5.0</td>\n",
       "      <td>14.51926</td>\n",
       "      <td>35.89016</td>\n",
       "    </tr>\n",
       "    <tr>\n",
       "      <th>1</th>\n",
       "      <td>2016-11-06 21:42:31</td>\n",
       "      <td>249649000</td>\n",
       "      <td>242.4</td>\n",
       "      <td>0.0</td>\n",
       "      <td>511.0</td>\n",
       "      <td>18.0</td>\n",
       "      <td>8.0</td>\n",
       "      <td>3.0</td>\n",
       "      <td>3.0</td>\n",
       "      <td>14.51977</td>\n",
       "      <td>35.88864</td>\n",
       "    </tr>\n",
       "    <tr>\n",
       "      <th>2</th>\n",
       "      <td>2016-11-06 21:42:31</td>\n",
       "      <td>247314300</td>\n",
       "      <td>289.3</td>\n",
       "      <td>0.2</td>\n",
       "      <td>188.0</td>\n",
       "      <td>211.0</td>\n",
       "      <td>32.0</td>\n",
       "      <td>26.0</td>\n",
       "      <td>16.0</td>\n",
       "      <td>14.88120</td>\n",
       "      <td>35.96471</td>\n",
       "    </tr>\n",
       "    <tr>\n",
       "      <th>3</th>\n",
       "      <td>2016-11-06 21:42:32</td>\n",
       "      <td>256574000</td>\n",
       "      <td>347.2</td>\n",
       "      <td>0.0</td>\n",
       "      <td>511.0</td>\n",
       "      <td>13.0</td>\n",
       "      <td>12.0</td>\n",
       "      <td>4.0</td>\n",
       "      <td>3.0</td>\n",
       "      <td>14.51881</td>\n",
       "      <td>35.88835</td>\n",
       "    </tr>\n",
       "    <tr>\n",
       "      <th>4</th>\n",
       "      <td>2016-11-06 21:42:32</td>\n",
       "      <td>248000285</td>\n",
       "      <td>350.9</td>\n",
       "      <td>1.1</td>\n",
       "      <td>511.0</td>\n",
       "      <td>6.0</td>\n",
       "      <td>6.0</td>\n",
       "      <td>2.0</td>\n",
       "      <td>2.0</td>\n",
       "      <td>14.55202</td>\n",
       "      <td>35.82655</td>\n",
       "    </tr>\n",
       "    <tr>\n",
       "      <th>5</th>\n",
       "      <td>2016-11-06 21:42:33</td>\n",
       "      <td>373753000</td>\n",
       "      <td>360.0</td>\n",
       "      <td>0.0</td>\n",
       "      <td>511.0</td>\n",
       "      <td>20.0</td>\n",
       "      <td>17.0</td>\n",
       "      <td>4.0</td>\n",
       "      <td>4.0</td>\n",
       "      <td>14.50303</td>\n",
       "      <td>35.88059</td>\n",
       "    </tr>\n",
       "    <tr>\n",
       "      <th>6</th>\n",
       "      <td>2016-11-06 21:42:34</td>\n",
       "      <td>232883000</td>\n",
       "      <td>323.5</td>\n",
       "      <td>0.0</td>\n",
       "      <td>232.0</td>\n",
       "      <td>40.0</td>\n",
       "      <td>55.0</td>\n",
       "      <td>11.0</td>\n",
       "      <td>4.0</td>\n",
       "      <td>14.51668</td>\n",
       "      <td>35.89147</td>\n",
       "    </tr>\n",
       "    <tr>\n",
       "      <th>7</th>\n",
       "      <td>2016-11-06 21:42:34</td>\n",
       "      <td>256051000</td>\n",
       "      <td>56.4</td>\n",
       "      <td>0.1</td>\n",
       "      <td>511.0</td>\n",
       "      <td>16.0</td>\n",
       "      <td>15.0</td>\n",
       "      <td>5.0</td>\n",
       "      <td>6.0</td>\n",
       "      <td>14.54231</td>\n",
       "      <td>35.81631</td>\n",
       "    </tr>\n",
       "    <tr>\n",
       "      <th>8</th>\n",
       "      <td>2016-11-06 21:42:35</td>\n",
       "      <td>249000903</td>\n",
       "      <td>173.3</td>\n",
       "      <td>0.0</td>\n",
       "      <td>511.0</td>\n",
       "      <td>0.0</td>\n",
       "      <td>32.0</td>\n",
       "      <td>0.0</td>\n",
       "      <td>6.0</td>\n",
       "      <td>14.50160</td>\n",
       "      <td>35.88061</td>\n",
       "    </tr>\n",
       "    <tr>\n",
       "      <th>9</th>\n",
       "      <td>2016-11-06 21:42:35</td>\n",
       "      <td>241315000</td>\n",
       "      <td>73.0</td>\n",
       "      <td>0.2</td>\n",
       "      <td>150.0</td>\n",
       "      <td>189.0</td>\n",
       "      <td>39.0</td>\n",
       "      <td>12.0</td>\n",
       "      <td>20.0</td>\n",
       "      <td>14.91068</td>\n",
       "      <td>36.00818</td>\n",
       "    </tr>\n",
       "  </tbody>\n",
       "</table>\n",
       "</div>"
      ],
      "text/plain": [
       "            date_time       mmsi  course  speed  heading      a     b     c  \\\n",
       "0 2016-11-06 21:42:31  538080045   249.1    0.0    251.0   32.0   9.0   5.0   \n",
       "1 2016-11-06 21:42:31  249649000   242.4    0.0    511.0   18.0   8.0   3.0   \n",
       "2 2016-11-06 21:42:31  247314300   289.3    0.2    188.0  211.0  32.0  26.0   \n",
       "3 2016-11-06 21:42:32  256574000   347.2    0.0    511.0   13.0  12.0   4.0   \n",
       "4 2016-11-06 21:42:32  248000285   350.9    1.1    511.0    6.0   6.0   2.0   \n",
       "5 2016-11-06 21:42:33  373753000   360.0    0.0    511.0   20.0  17.0   4.0   \n",
       "6 2016-11-06 21:42:34  232883000   323.5    0.0    232.0   40.0  55.0  11.0   \n",
       "7 2016-11-06 21:42:34  256051000    56.4    0.1    511.0   16.0  15.0   5.0   \n",
       "8 2016-11-06 21:42:35  249000903   173.3    0.0    511.0    0.0  32.0   0.0   \n",
       "9 2016-11-06 21:42:35  241315000    73.0    0.2    150.0  189.0  39.0  12.0   \n",
       "\n",
       "      d  longitude  latitude  \n",
       "0   5.0   14.51926  35.89016  \n",
       "1   3.0   14.51977  35.88864  \n",
       "2  16.0   14.88120  35.96471  \n",
       "3   3.0   14.51881  35.88835  \n",
       "4   2.0   14.55202  35.82655  \n",
       "5   4.0   14.50303  35.88059  \n",
       "6   4.0   14.51668  35.89147  \n",
       "7   6.0   14.54231  35.81631  \n",
       "8   6.0   14.50160  35.88061  \n",
       "9  20.0   14.91068  36.00818  "
      ]
     },
     "execution_count": 6,
     "metadata": {},
     "output_type": "execute_result"
    }
   ],
   "source": [
    "df.head(10)"
   ]
  },
  {
   "cell_type": "code",
   "execution_count": 15,
   "metadata": {},
   "outputs": [
    {
     "data": {
      "text/html": [
       "<div>\n",
       "<style scoped>\n",
       "    .dataframe tbody tr th:only-of-type {\n",
       "        vertical-align: middle;\n",
       "    }\n",
       "\n",
       "    .dataframe tbody tr th {\n",
       "        vertical-align: top;\n",
       "    }\n",
       "\n",
       "    .dataframe thead th {\n",
       "        text-align: right;\n",
       "    }\n",
       "</style>\n",
       "<table border=\"1\" class=\"dataframe\">\n",
       "  <thead>\n",
       "    <tr style=\"text-align: right;\">\n",
       "      <th></th>\n",
       "      <th>mmsi</th>\n",
       "      <th>course</th>\n",
       "      <th>speed</th>\n",
       "      <th>a</th>\n",
       "      <th>b</th>\n",
       "      <th>c</th>\n",
       "      <th>d</th>\n",
       "      <th>longitude</th>\n",
       "      <th>latitude</th>\n",
       "    </tr>\n",
       "  </thead>\n",
       "  <tbody>\n",
       "    <tr>\n",
       "      <th>count</th>\n",
       "      <td>1.837082e+07</td>\n",
       "      <td>1.837082e+07</td>\n",
       "      <td>1.837082e+07</td>\n",
       "      <td>1.837082e+07</td>\n",
       "      <td>1.837082e+07</td>\n",
       "      <td>1.837082e+07</td>\n",
       "      <td>1.837082e+07</td>\n",
       "      <td>1.837082e+07</td>\n",
       "      <td>1.837082e+07</td>\n",
       "    </tr>\n",
       "    <tr>\n",
       "      <th>mean</th>\n",
       "      <td>3.625244e+08</td>\n",
       "      <td>1.851212e+02</td>\n",
       "      <td>8.487151e-01</td>\n",
       "      <td>1.171460e+02</td>\n",
       "      <td>4.268572e+01</td>\n",
       "      <td>1.295987e+01</td>\n",
       "      <td>1.263577e+01</td>\n",
       "      <td>1.405974e+01</td>\n",
       "      <td>3.602681e+01</td>\n",
       "    </tr>\n",
       "    <tr>\n",
       "      <th>std</th>\n",
       "      <td>1.463821e+08</td>\n",
       "      <td>9.935053e+01</td>\n",
       "      <td>6.394008e-01</td>\n",
       "      <td>7.132031e+01</td>\n",
       "      <td>4.582675e+01</td>\n",
       "      <td>7.446013e+00</td>\n",
       "      <td>7.704603e+00</td>\n",
       "      <td>1.320269e+00</td>\n",
       "      <td>8.701592e-01</td>\n",
       "    </tr>\n",
       "    <tr>\n",
       "      <th>min</th>\n",
       "      <td>1.112471e+08</td>\n",
       "      <td>0.000000e+00</td>\n",
       "      <td>0.000000e+00</td>\n",
       "      <td>0.000000e+00</td>\n",
       "      <td>0.000000e+00</td>\n",
       "      <td>0.000000e+00</td>\n",
       "      <td>0.000000e+00</td>\n",
       "      <td>9.971340e+00</td>\n",
       "      <td>3.231069e+01</td>\n",
       "    </tr>\n",
       "    <tr>\n",
       "      <th>25%</th>\n",
       "      <td>2.472788e+08</td>\n",
       "      <td>1.050000e+02</td>\n",
       "      <td>0.000000e+00</td>\n",
       "      <td>6.500000e+01</td>\n",
       "      <td>1.900000e+01</td>\n",
       "      <td>7.000000e+00</td>\n",
       "      <td>7.000000e+00</td>\n",
       "      <td>1.348407e+01</td>\n",
       "      <td>3.582253e+01</td>\n",
       "    </tr>\n",
       "    <tr>\n",
       "      <th>50%</th>\n",
       "      <td>3.048140e+08</td>\n",
       "      <td>1.780000e+02</td>\n",
       "      <td>1.000000e+00</td>\n",
       "      <td>1.220000e+02</td>\n",
       "      <td>3.000000e+01</td>\n",
       "      <td>1.100000e+01</td>\n",
       "      <td>1.100000e+01</td>\n",
       "      <td>1.455755e+01</td>\n",
       "      <td>3.599202e+01</td>\n",
       "    </tr>\n",
       "    <tr>\n",
       "      <th>75%</th>\n",
       "      <td>5.186820e+08</td>\n",
       "      <td>2.847000e+02</td>\n",
       "      <td>1.000000e+00</td>\n",
       "      <td>1.620000e+02</td>\n",
       "      <td>4.400000e+01</td>\n",
       "      <td>1.800000e+01</td>\n",
       "      <td>1.700000e+01</td>\n",
       "      <td>1.486062e+01</td>\n",
       "      <td>3.643581e+01</td>\n",
       "    </tr>\n",
       "    <tr>\n",
       "      <th>max</th>\n",
       "      <td>7.812418e+08</td>\n",
       "      <td>4.065000e+02</td>\n",
       "      <td>3.000000e+00</td>\n",
       "      <td>5.110000e+02</td>\n",
       "      <td>5.110000e+02</td>\n",
       "      <td>6.300000e+01</td>\n",
       "      <td>6.300000e+01</td>\n",
       "      <td>1.606201e+01</td>\n",
       "      <td>3.774155e+01</td>\n",
       "    </tr>\n",
       "  </tbody>\n",
       "</table>\n",
       "</div>"
      ],
      "text/plain": [
       "               mmsi        course         speed             a             b  \\\n",
       "count  1.837082e+07  1.837082e+07  1.837082e+07  1.837082e+07  1.837082e+07   \n",
       "mean   3.625244e+08  1.851212e+02  8.487151e-01  1.171460e+02  4.268572e+01   \n",
       "std    1.463821e+08  9.935053e+01  6.394008e-01  7.132031e+01  4.582675e+01   \n",
       "min    1.112471e+08  0.000000e+00  0.000000e+00  0.000000e+00  0.000000e+00   \n",
       "25%    2.472788e+08  1.050000e+02  0.000000e+00  6.500000e+01  1.900000e+01   \n",
       "50%    3.048140e+08  1.780000e+02  1.000000e+00  1.220000e+02  3.000000e+01   \n",
       "75%    5.186820e+08  2.847000e+02  1.000000e+00  1.620000e+02  4.400000e+01   \n",
       "max    7.812418e+08  4.065000e+02  3.000000e+00  5.110000e+02  5.110000e+02   \n",
       "\n",
       "                  c             d     longitude      latitude  \n",
       "count  1.837082e+07  1.837082e+07  1.837082e+07  1.837082e+07  \n",
       "mean   1.295987e+01  1.263577e+01  1.405974e+01  3.602681e+01  \n",
       "std    7.446013e+00  7.704603e+00  1.320269e+00  8.701592e-01  \n",
       "min    0.000000e+00  0.000000e+00  9.971340e+00  3.231069e+01  \n",
       "25%    7.000000e+00  7.000000e+00  1.348407e+01  3.582253e+01  \n",
       "50%    1.100000e+01  1.100000e+01  1.455755e+01  3.599202e+01  \n",
       "75%    1.800000e+01  1.700000e+01  1.486062e+01  3.643581e+01  \n",
       "max    6.300000e+01  6.300000e+01  1.606201e+01  3.774155e+01  "
      ]
     },
     "execution_count": 15,
     "metadata": {},
     "output_type": "execute_result"
    }
   ],
   "source": [
    "df.describe()"
   ]
  },
  {
   "cell_type": "markdown",
   "metadata": {},
   "source": [
    "# Normalization \n",
    "* Discretize columns\n",
    "* Standardization columns (this is done to give the same weight to every feature): three techniques available simple feature scaling, min-max, z-score"
   ]
  },
  {
   "cell_type": "markdown",
   "metadata": {},
   "source": [
    "Discretize speed and course"
   ]
  },
  {
   "cell_type": "code",
   "execution_count": 9,
   "metadata": {},
   "outputs": [],
   "source": [
    "def get_discretized_speed(speed):\n",
    "    # speed class\n",
    "    sc = 0 # slow - speed between 0.5 and 3\n",
    "    if speed > 3 and speed <= 14:\n",
    "        sc = 1 # medium\n",
    "    elif speed > 14 and speed <= 23:\n",
    "        sc = 2 # high\n",
    "    elif speed > 23 and speed <= 60:\n",
    "        sc = 3 # very high\n",
    "    elif speed > 60:\n",
    "        sc = 4 # exception\n",
    "    return sc "
   ]
  },
  {
   "cell_type": "code",
   "execution_count": 10,
   "metadata": {},
   "outputs": [],
   "source": [
    "def get_discretized_course(course):\n",
    "    # course class\n",
    "    cc = 0 # nord 337.5 - 22.5\n",
    "    if course > 22.5 and course <= 67.5:\n",
    "        cc = 1\n",
    "    elif course > 67.5 and course <= 112.5:\n",
    "        cc = 2\n",
    "    elif course > 112.5 and course <= 157.5:\n",
    "        cc = 3\n",
    "    elif course > 157.5 and course <= 202.5:\n",
    "        cc = 4\n",
    "    elif course > 202.5 and course <= 247.5:\n",
    "        cc = 5\n",
    "    elif course > 247.5 and course <= 292.5:\n",
    "        cc = 6\n",
    "    elif course > 292.5 and course <= 337.5:\n",
    "        cc = 7\n",
    "    return cc"
   ]
  },
  {
   "cell_type": "code",
   "execution_count": 11,
   "metadata": {},
   "outputs": [],
   "source": [
    "def get_basic_class(length):\n",
    "    small_ship_length = 50.0 \n",
    "    small_ship_width = 6.0 # 6-8\n",
    "    big_ship_length = 51.0\n",
    "    big_ship_width = 15.0\n",
    "    if length <= small_ship_length:\n",
    "        return 0 # small ship class 0\n",
    "    if length >= big_ship_length:\n",
    "        return 1 # big ship class 2\n",
    "    return 2 # medium ship class 1"
   ]
  },
  {
   "cell_type": "code",
   "execution_count": 12,
   "metadata": {},
   "outputs": [],
   "source": [
    "df['speed'] = df['speed'].apply(get_discretized_speed)"
   ]
  },
  {
   "cell_type": "code",
   "execution_count": 13,
   "metadata": {},
   "outputs": [
    {
     "data": {
      "text/plain": [
       "Text(0.5, 1.0, 'Speed Distribution')"
      ]
     },
     "execution_count": 13,
     "metadata": {},
     "output_type": "execute_result"
    },
    {
     "data": {
      "image/png": "[encoded data removed]",
      "text/plain": [
       "<Figure size 432x288 with 1 Axes>"
      ]
     },
     "metadata": {
      "needs_background": "light"
     },
     "output_type": "display_data"
    }
   ],
   "source": [
    "%matplotlib inline\n",
    "import matplotlib as plt\n",
    "from matplotlib import pyplot\n",
    "plt.pyplot.hist(df[\"speed\"])\n",
    "\n",
    "# set x/y labels and plot title\n",
    "plt.pyplot.xlabel(\"speed\")\n",
    "plt.pyplot.ylabel(\"count\")\n",
    "plt.pyplot.title(\"Speed Distribution\")"
   ]
  },
  {
   "cell_type": "code",
   "execution_count": 14,
   "metadata": {},
   "outputs": [],
   "source": [
    "df['course'] = df['course'].apply(get_discretized_course)"
   ]
  },
  {
   "cell_type": "code",
   "execution_count": 15,
   "metadata": {},
   "outputs": [
    {
     "data": {
      "text/plain": [
       "Text(0.5, 1.0, 'Course Distribution')"
      ]
     },
     "execution_count": 15,
     "metadata": {},
     "output_type": "execute_result"
    },
    {
     "data": {
      "image/png": "[encoded data removed]",
      "text/plain": [
       "<Figure size 432x288 with 1 Axes>"
      ]
     },
     "metadata": {
      "needs_background": "light"
     },
     "output_type": "display_data"
    }
   ],
   "source": [
    "plt.pyplot.hist(df[\"course\"])\n",
    "\n",
    "# set x/y labels and plot title\n",
    "plt.pyplot.xlabel(\"course\")\n",
    "plt.pyplot.ylabel(\"count\")\n",
    "plt.pyplot.title(\"Course Distribution\")"
   ]
  },
  {
   "cell_type": "markdown",
   "metadata": {},
   "source": [
    "Get class"
   ]
  },
  {
   "cell_type": "code",
   "execution_count": 16,
   "metadata": {},
   "outputs": [],
   "source": [
    "df['length'] = abs(df['b'] + df['a'])"
   ]
  },
  {
   "cell_type": "code",
   "execution_count": 17,
   "metadata": {},
   "outputs": [],
   "source": [
    "df['width'] = abs(df['c'] + df['d'])"
   ]
  },
  {
   "cell_type": "code",
   "execution_count": 18,
   "metadata": {},
   "outputs": [],
   "source": [
    "df['class'] = df['length'].apply(get_basic_class)"
   ]
  },
  {
   "cell_type": "code",
   "execution_count": 19,
   "metadata": {},
   "outputs": [],
   "source": [
    "df.drop(columns=['a', 'b','c','d'], axis=1,inplace=True)"
   ]
  },
  {
   "cell_type": "code",
   "execution_count": 20,
   "metadata": {},
   "outputs": [],
   "source": [
    "df.drop(columns=['width', 'length'], axis=1,inplace=True)"
   ]
  },
  {
   "cell_type": "code",
   "execution_count": 68,
   "metadata": {},
   "outputs": [
    {
     "data": {
      "text/html": [
       "<div>\n",
       "<style scoped>\n",
       "    .dataframe tbody tr th:only-of-type {\n",
       "        vertical-align: middle;\n",
       "    }\n",
       "\n",
       "    .dataframe tbody tr th {\n",
       "        vertical-align: top;\n",
       "    }\n",
       "\n",
       "    .dataframe thead th {\n",
       "        text-align: right;\n",
       "    }\n",
       "</style>\n",
       "<table border=\"1\" class=\"dataframe\">\n",
       "  <thead>\n",
       "    <tr style=\"text-align: right;\">\n",
       "      <th></th>\n",
       "      <th>date_time</th>\n",
       "      <th>mmsi</th>\n",
       "      <th>course</th>\n",
       "      <th>speed</th>\n",
       "      <th>longitude</th>\n",
       "      <th>latitude</th>\n",
       "      <th>class</th>\n",
       "    </tr>\n",
       "  </thead>\n",
       "  <tbody>\n",
       "    <tr>\n",
       "      <th>0</th>\n",
       "      <td>2016-11-06 21:42:31</td>\n",
       "      <td>247314300</td>\n",
       "      <td>6</td>\n",
       "      <td>0</td>\n",
       "      <td>14.88120</td>\n",
       "      <td>35.96471</td>\n",
       "      <td>1</td>\n",
       "    </tr>\n",
       "    <tr>\n",
       "      <th>1</th>\n",
       "      <td>2016-11-06 21:42:35</td>\n",
       "      <td>241315000</td>\n",
       "      <td>2</td>\n",
       "      <td>0</td>\n",
       "      <td>14.91068</td>\n",
       "      <td>36.00818</td>\n",
       "      <td>1</td>\n",
       "    </tr>\n",
       "    <tr>\n",
       "      <th>2</th>\n",
       "      <td>2016-11-06 21:42:37</td>\n",
       "      <td>212339000</td>\n",
       "      <td>7</td>\n",
       "      <td>0</td>\n",
       "      <td>10.83956</td>\n",
       "      <td>34.67698</td>\n",
       "      <td>1</td>\n",
       "    </tr>\n",
       "    <tr>\n",
       "      <th>3</th>\n",
       "      <td>2016-11-06 21:42:37</td>\n",
       "      <td>255805623</td>\n",
       "      <td>3</td>\n",
       "      <td>0</td>\n",
       "      <td>14.86638</td>\n",
       "      <td>35.77951</td>\n",
       "      <td>1</td>\n",
       "    </tr>\n",
       "    <tr>\n",
       "      <th>4</th>\n",
       "      <td>2016-11-06 21:42:39</td>\n",
       "      <td>304634000</td>\n",
       "      <td>2</td>\n",
       "      <td>1</td>\n",
       "      <td>15.66044</td>\n",
       "      <td>35.86181</td>\n",
       "      <td>1</td>\n",
       "    </tr>\n",
       "    <tr>\n",
       "      <th>5</th>\n",
       "      <td>2016-11-06 21:42:44</td>\n",
       "      <td>304095000</td>\n",
       "      <td>5</td>\n",
       "      <td>0</td>\n",
       "      <td>15.28759</td>\n",
       "      <td>32.36729</td>\n",
       "      <td>1</td>\n",
       "    </tr>\n",
       "    <tr>\n",
       "      <th>6</th>\n",
       "      <td>2016-11-06 21:42:45</td>\n",
       "      <td>371158000</td>\n",
       "      <td>1</td>\n",
       "      <td>0</td>\n",
       "      <td>15.36713</td>\n",
       "      <td>35.48793</td>\n",
       "      <td>1</td>\n",
       "    </tr>\n",
       "    <tr>\n",
       "      <th>7</th>\n",
       "      <td>2016-11-06 21:42:50</td>\n",
       "      <td>250002045</td>\n",
       "      <td>4</td>\n",
       "      <td>0</td>\n",
       "      <td>14.43508</td>\n",
       "      <td>35.99266</td>\n",
       "      <td>1</td>\n",
       "    </tr>\n",
       "    <tr>\n",
       "      <th>8</th>\n",
       "      <td>2016-11-06 21:42:54</td>\n",
       "      <td>248922000</td>\n",
       "      <td>0</td>\n",
       "      <td>0</td>\n",
       "      <td>14.77100</td>\n",
       "      <td>36.04500</td>\n",
       "      <td>1</td>\n",
       "    </tr>\n",
       "    <tr>\n",
       "      <th>9</th>\n",
       "      <td>2016-11-06 21:42:54</td>\n",
       "      <td>205696000</td>\n",
       "      <td>6</td>\n",
       "      <td>0</td>\n",
       "      <td>14.83792</td>\n",
       "      <td>35.91907</td>\n",
       "      <td>1</td>\n",
       "    </tr>\n",
       "  </tbody>\n",
       "</table>\n",
       "</div>"
      ],
      "text/plain": [
       "            date_time       mmsi  course  speed  longitude  latitude  class\n",
       "0 2016-11-06 21:42:31  247314300       6      0   14.88120  35.96471      1\n",
       "1 2016-11-06 21:42:35  241315000       2      0   14.91068  36.00818      1\n",
       "2 2016-11-06 21:42:37  212339000       7      0   10.83956  34.67698      1\n",
       "3 2016-11-06 21:42:37  255805623       3      0   14.86638  35.77951      1\n",
       "4 2016-11-06 21:42:39  304634000       2      1   15.66044  35.86181      1\n",
       "5 2016-11-06 21:42:44  304095000       5      0   15.28759  32.36729      1\n",
       "6 2016-11-06 21:42:45  371158000       1      0   15.36713  35.48793      1\n",
       "7 2016-11-06 21:42:50  250002045       4      0   14.43508  35.99266      1\n",
       "8 2016-11-06 21:42:54  248922000       0      0   14.77100  36.04500      1\n",
       "9 2016-11-06 21:42:54  205696000       6      0   14.83792  35.91907      1"
      ]
     },
     "execution_count": 68,
     "metadata": {},
     "output_type": "execute_result"
    }
   ],
   "source": [
    "df.head(10)"
   ]
  },
  {
   "cell_type": "markdown",
   "metadata": {},
   "source": [
    "Standardize course and speed. Use simple scaling"
   ]
  },
  {
   "cell_type": "code",
   "execution_count": 21,
   "metadata": {},
   "outputs": [],
   "source": [
    "df['course'] = df['course']/df['course'].max()"
   ]
  },
  {
   "cell_type": "code",
   "execution_count": 22,
   "metadata": {},
   "outputs": [],
   "source": [
    "df['speed'] = df['speed']/df['speed'].max()"
   ]
  },
  {
   "cell_type": "code",
   "execution_count": 24,
   "metadata": {},
   "outputs": [
    {
     "data": {
      "text/html": [
       "<div>\n",
       "<style scoped>\n",
       "    .dataframe tbody tr th:only-of-type {\n",
       "        vertical-align: middle;\n",
       "    }\n",
       "\n",
       "    .dataframe tbody tr th {\n",
       "        vertical-align: top;\n",
       "    }\n",
       "\n",
       "    .dataframe thead th {\n",
       "        text-align: right;\n",
       "    }\n",
       "</style>\n",
       "<table border=\"1\" class=\"dataframe\">\n",
       "  <thead>\n",
       "    <tr style=\"text-align: right;\">\n",
       "      <th></th>\n",
       "      <th>date_time</th>\n",
       "      <th>mmsi</th>\n",
       "      <th>course</th>\n",
       "      <th>speed</th>\n",
       "      <th>longitude</th>\n",
       "      <th>latitude</th>\n",
       "      <th>class</th>\n",
       "    </tr>\n",
       "  </thead>\n",
       "  <tbody>\n",
       "    <tr>\n",
       "      <th>0</th>\n",
       "      <td>2017-09-06 08:13:15+00:00</td>\n",
       "      <td>247144390</td>\n",
       "      <td>0.142857</td>\n",
       "      <td>0.333333</td>\n",
       "      <td>12.68286</td>\n",
       "      <td>37.23098</td>\n",
       "      <td>0</td>\n",
       "    </tr>\n",
       "    <tr>\n",
       "      <th>1</th>\n",
       "      <td>2017-09-06 08:13:15+00:00</td>\n",
       "      <td>247100100</td>\n",
       "      <td>0.285714</td>\n",
       "      <td>0.000000</td>\n",
       "      <td>12.69433</td>\n",
       "      <td>33.75967</td>\n",
       "      <td>1</td>\n",
       "    </tr>\n",
       "    <tr>\n",
       "      <th>2</th>\n",
       "      <td>2017-09-06 08:04:09+00:00</td>\n",
       "      <td>247300080</td>\n",
       "      <td>0.428571</td>\n",
       "      <td>0.333333</td>\n",
       "      <td>12.70149</td>\n",
       "      <td>35.52302</td>\n",
       "      <td>0</td>\n",
       "    </tr>\n",
       "    <tr>\n",
       "      <th>3</th>\n",
       "      <td>2017-09-06 08:12:14+00:00</td>\n",
       "      <td>247305840</td>\n",
       "      <td>0.714286</td>\n",
       "      <td>0.000000</td>\n",
       "      <td>12.70958</td>\n",
       "      <td>36.91732</td>\n",
       "      <td>0</td>\n",
       "    </tr>\n",
       "    <tr>\n",
       "      <th>4</th>\n",
       "      <td>2017-09-06 08:02:08+00:00</td>\n",
       "      <td>247306530</td>\n",
       "      <td>0.571429</td>\n",
       "      <td>0.000000</td>\n",
       "      <td>12.73139</td>\n",
       "      <td>36.90751</td>\n",
       "      <td>0</td>\n",
       "    </tr>\n",
       "    <tr>\n",
       "      <th>5</th>\n",
       "      <td>2017-09-06 08:09:12+00:00</td>\n",
       "      <td>247140710</td>\n",
       "      <td>0.857143</td>\n",
       "      <td>0.333333</td>\n",
       "      <td>12.75640</td>\n",
       "      <td>37.07140</td>\n",
       "      <td>0</td>\n",
       "    </tr>\n",
       "    <tr>\n",
       "      <th>6</th>\n",
       "      <td>2017-09-06 08:13:15+00:00</td>\n",
       "      <td>247140880</td>\n",
       "      <td>0.857143</td>\n",
       "      <td>0.000000</td>\n",
       "      <td>12.75964</td>\n",
       "      <td>37.06241</td>\n",
       "      <td>0</td>\n",
       "    </tr>\n",
       "    <tr>\n",
       "      <th>7</th>\n",
       "      <td>2017-09-06 08:12:14+00:00</td>\n",
       "      <td>247147950</td>\n",
       "      <td>0.428571</td>\n",
       "      <td>0.333333</td>\n",
       "      <td>12.76250</td>\n",
       "      <td>37.13440</td>\n",
       "      <td>0</td>\n",
       "    </tr>\n",
       "    <tr>\n",
       "      <th>8</th>\n",
       "      <td>2017-09-06 08:13:15+00:00</td>\n",
       "      <td>247090600</td>\n",
       "      <td>0.142857</td>\n",
       "      <td>1.000000</td>\n",
       "      <td>12.77867</td>\n",
       "      <td>35.70450</td>\n",
       "      <td>0</td>\n",
       "    </tr>\n",
       "    <tr>\n",
       "      <th>9</th>\n",
       "      <td>2017-09-06 07:58:05+00:00</td>\n",
       "      <td>305665000</td>\n",
       "      <td>0.857143</td>\n",
       "      <td>0.000000</td>\n",
       "      <td>12.79081</td>\n",
       "      <td>33.77640</td>\n",
       "      <td>1</td>\n",
       "    </tr>\n",
       "  </tbody>\n",
       "</table>\n",
       "</div>"
      ],
      "text/plain": [
       "                  date_time       mmsi    course     speed  longitude  \\\n",
       "0 2017-09-06 08:13:15+00:00  247144390  0.142857  0.333333   12.68286   \n",
       "1 2017-09-06 08:13:15+00:00  247100100  0.285714  0.000000   12.69433   \n",
       "2 2017-09-06 08:04:09+00:00  247300080  0.428571  0.333333   12.70149   \n",
       "3 2017-09-06 08:12:14+00:00  247305840  0.714286  0.000000   12.70958   \n",
       "4 2017-09-06 08:02:08+00:00  247306530  0.571429  0.000000   12.73139   \n",
       "5 2017-09-06 08:09:12+00:00  247140710  0.857143  0.333333   12.75640   \n",
       "6 2017-09-06 08:13:15+00:00  247140880  0.857143  0.000000   12.75964   \n",
       "7 2017-09-06 08:12:14+00:00  247147950  0.428571  0.333333   12.76250   \n",
       "8 2017-09-06 08:13:15+00:00  247090600  0.142857  1.000000   12.77867   \n",
       "9 2017-09-06 07:58:05+00:00  305665000  0.857143  0.000000   12.79081   \n",
       "\n",
       "   latitude  class  \n",
       "0  37.23098      0  \n",
       "1  33.75967      1  \n",
       "2  35.52302      0  \n",
       "3  36.91732      0  \n",
       "4  36.90751      0  \n",
       "5  37.07140      0  \n",
       "6  37.06241      0  \n",
       "7  37.13440      0  \n",
       "8  35.70450      0  \n",
       "9  33.77640      1  "
      ]
     },
     "execution_count": 24,
     "metadata": {},
     "output_type": "execute_result"
    }
   ],
   "source": [
    "df.head(10)"
   ]
  },
  {
   "cell_type": "code",
   "execution_count": 23,
   "metadata": {},
   "outputs": [],
   "source": [
    "df.to_csv('source/ais_data_discretized.csv')"
   ]
  },
  {
   "cell_type": "markdown",
   "metadata": {},
   "source": [
    "# Deduplicate"
   ]
  },
  {
   "cell_type": "code",
   "execution_count": null,
   "metadata": {},
   "outputs": [],
   "source": [
    "df.drop_duplicates(subset=['date_time', 'mmsi', 'course', 'speed', 'longitude', 'latitude', 'class'],inplace=True)\n",
    "df.to_csv('source/ais_data_deduplicated.csv')"
   ]
  },
  {
   "cell_type": "code",
   "execution_count": 6,
   "metadata": {},
   "outputs": [
    {
     "data": {
      "text/plain": [
       "(38017576, 8)"
      ]
     },
     "execution_count": 6,
     "metadata": {},
     "output_type": "execute_result"
    }
   ],
   "source": [
    "df = pd.read_csv('source/ais_data_deduplicated.csv')\n",
    "df.dropna(inplace=True)\n",
    "df.shape"
   ]
  },
  {
   "cell_type": "code",
   "execution_count": null,
   "metadata": {},
   "outputs": [],
   "source": []
  }
 ],
 "metadata": {
  "kernelspec": {
   "display_name": "Python 3",
   "language": "python",
   "name": "python3"
  },
  "language_info": {
   "codemirror_mode": {
    "name": "ipython",
    "version": 3
   },
   "file_extension": ".py",
   "mimetype": "text/x-python",
   "name": "python",
   "nbconvert_exporter": "python",
   "pygments_lexer": "ipython3",
   "version": "3.8.1"
  }
 },
 "nbformat": 4,
 "nbformat_minor": 4
}
