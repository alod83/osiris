{
 "cells": [
  {
   "cell_type": "markdown",
   "metadata": {},
   "source": [
    "# Class Analysis\n",
    "\n",
    "Each output class has the following label: df['next_status_60_row']  + df['next_status_60_column']\n",
    "Associate each label a number"
   ]
  },
  {
   "cell_type": "code",
   "execution_count": 1,
   "metadata": {},
   "outputs": [],
   "source": [
    "import pandas as pd\n",
    "\n",
    "df = pd.read_csv('source/ais_data_next_status_60.csv')"
   ]
  },
  {
   "cell_type": "code",
   "execution_count": 2,
   "metadata": {},
   "outputs": [
    {
     "data": {
      "text/html": [
       "<div>\n",
       "<style scoped>\n",
       "    .dataframe tbody tr th:only-of-type {\n",
       "        vertical-align: middle;\n",
       "    }\n",
       "\n",
       "    .dataframe tbody tr th {\n",
       "        vertical-align: top;\n",
       "    }\n",
       "\n",
       "    .dataframe thead th {\n",
       "        text-align: right;\n",
       "    }\n",
       "</style>\n",
       "<table border=\"1\" class=\"dataframe\">\n",
       "  <thead>\n",
       "    <tr style=\"text-align: right;\">\n",
       "      <th></th>\n",
       "      <th>Unnamed: 0</th>\n",
       "      <th>Unnamed: 0.1</th>\n",
       "      <th>Unnamed: 0.1.1</th>\n",
       "      <th>class</th>\n",
       "      <th>column</th>\n",
       "      <th>course</th>\n",
       "      <th>date_time</th>\n",
       "      <th>index</th>\n",
       "      <th>latitude</th>\n",
       "      <th>longitude</th>\n",
       "      <th>mmsi</th>\n",
       "      <th>next_status_60_column</th>\n",
       "      <th>next_status_60_date_time</th>\n",
       "      <th>next_status_60_row</th>\n",
       "      <th>row</th>\n",
       "      <th>speed</th>\n",
       "    </tr>\n",
       "  </thead>\n",
       "  <tbody>\n",
       "    <tr>\n",
       "      <th>0</th>\n",
       "      <td>13</td>\n",
       "      <td>13</td>\n",
       "      <td>13.0</td>\n",
       "      <td>0.0</td>\n",
       "      <td>126.0</td>\n",
       "      <td>0.571429</td>\n",
       "      <td>2016-10-26 00:20:28+00:00</td>\n",
       "      <td>15568808.0</td>\n",
       "      <td>35.35294</td>\n",
       "      <td>12.63126</td>\n",
       "      <td>111247508.0</td>\n",
       "      <td>129.0</td>\n",
       "      <td>2016-10-26 01:20:27+00:00</td>\n",
       "      <td>340.0</td>\n",
       "      <td>353.0</td>\n",
       "      <td>0.666667</td>\n",
       "    </tr>\n",
       "    <tr>\n",
       "      <th>1</th>\n",
       "      <td>14</td>\n",
       "      <td>14</td>\n",
       "      <td>14.0</td>\n",
       "      <td>0.0</td>\n",
       "      <td>126.0</td>\n",
       "      <td>0.571429</td>\n",
       "      <td>2016-10-26 00:23:29+00:00</td>\n",
       "      <td>15568993.0</td>\n",
       "      <td>35.35294</td>\n",
       "      <td>12.63126</td>\n",
       "      <td>111247508.0</td>\n",
       "      <td>129.0</td>\n",
       "      <td>2016-10-26 01:23:29+00:00</td>\n",
       "      <td>340.0</td>\n",
       "      <td>353.0</td>\n",
       "      <td>0.666667</td>\n",
       "    </tr>\n",
       "    <tr>\n",
       "      <th>2</th>\n",
       "      <td>15</td>\n",
       "      <td>15</td>\n",
       "      <td>15.0</td>\n",
       "      <td>0.0</td>\n",
       "      <td>127.0</td>\n",
       "      <td>0.571429</td>\n",
       "      <td>2016-10-26 00:35:27+00:00</td>\n",
       "      <td>15569644.0</td>\n",
       "      <td>34.95978</td>\n",
       "      <td>12.71980</td>\n",
       "      <td>111247508.0</td>\n",
       "      <td>129.0</td>\n",
       "      <td>2016-10-26 01:35:18+00:00</td>\n",
       "      <td>340.0</td>\n",
       "      <td>349.0</td>\n",
       "      <td>0.666667</td>\n",
       "    </tr>\n",
       "    <tr>\n",
       "      <th>3</th>\n",
       "      <td>16</td>\n",
       "      <td>16</td>\n",
       "      <td>16.0</td>\n",
       "      <td>0.0</td>\n",
       "      <td>128.0</td>\n",
       "      <td>0.571429</td>\n",
       "      <td>2016-10-26 00:56:17+00:00</td>\n",
       "      <td>15570855.0</td>\n",
       "      <td>34.21719</td>\n",
       "      <td>12.88836</td>\n",
       "      <td>111247508.0</td>\n",
       "      <td>128.0</td>\n",
       "      <td>2016-10-26 01:56:21+00:00</td>\n",
       "      <td>342.0</td>\n",
       "      <td>342.0</td>\n",
       "      <td>0.333333</td>\n",
       "    </tr>\n",
       "    <tr>\n",
       "      <th>4</th>\n",
       "      <td>17</td>\n",
       "      <td>17</td>\n",
       "      <td>17.0</td>\n",
       "      <td>0.0</td>\n",
       "      <td>129.0</td>\n",
       "      <td>0.000000</td>\n",
       "      <td>2016-10-26 01:11:10+00:00</td>\n",
       "      <td>15571708.0</td>\n",
       "      <td>34.01085</td>\n",
       "      <td>12.97691</td>\n",
       "      <td>111247508.0</td>\n",
       "      <td>127.0</td>\n",
       "      <td>2016-10-26 02:11:24+00:00</td>\n",
       "      <td>348.0</td>\n",
       "      <td>340.0</td>\n",
       "      <td>0.333333</td>\n",
       "    </tr>\n",
       "  </tbody>\n",
       "</table>\n",
       "</div>"
      ],
      "text/plain": [
       "   Unnamed: 0  Unnamed: 0.1  Unnamed: 0.1.1  class  column    course  \\\n",
       "0          13            13            13.0    0.0   126.0  0.571429   \n",
       "1          14            14            14.0    0.0   126.0  0.571429   \n",
       "2          15            15            15.0    0.0   127.0  0.571429   \n",
       "3          16            16            16.0    0.0   128.0  0.571429   \n",
       "4          17            17            17.0    0.0   129.0  0.000000   \n",
       "\n",
       "                   date_time       index  latitude  longitude         mmsi  \\\n",
       "0  2016-10-26 00:20:28+00:00  15568808.0  35.35294   12.63126  111247508.0   \n",
       "1  2016-10-26 00:23:29+00:00  15568993.0  35.35294   12.63126  111247508.0   \n",
       "2  2016-10-26 00:35:27+00:00  15569644.0  34.95978   12.71980  111247508.0   \n",
       "3  2016-10-26 00:56:17+00:00  15570855.0  34.21719   12.88836  111247508.0   \n",
       "4  2016-10-26 01:11:10+00:00  15571708.0  34.01085   12.97691  111247508.0   \n",
       "\n",
       "   next_status_60_column   next_status_60_date_time  next_status_60_row  \\\n",
       "0                  129.0  2016-10-26 01:20:27+00:00               340.0   \n",
       "1                  129.0  2016-10-26 01:23:29+00:00               340.0   \n",
       "2                  129.0  2016-10-26 01:35:18+00:00               340.0   \n",
       "3                  128.0  2016-10-26 01:56:21+00:00               342.0   \n",
       "4                  127.0  2016-10-26 02:11:24+00:00               348.0   \n",
       "\n",
       "     row     speed  \n",
       "0  353.0  0.666667  \n",
       "1  353.0  0.666667  \n",
       "2  349.0  0.666667  \n",
       "3  342.0  0.333333  \n",
       "4  340.0  0.333333  "
      ]
     },
     "execution_count": 2,
     "metadata": {},
     "output_type": "execute_result"
    }
   ],
   "source": [
    "df.head()"
   ]
  },
  {
   "cell_type": "code",
   "execution_count": 3,
   "metadata": {},
   "outputs": [],
   "source": [
    "df.drop(['Unnamed: 0', 'Unnamed: 0.1', 'Unnamed: 0.1.1', 'index'], axis=1, inplace=True)"
   ]
  },
  {
   "cell_type": "code",
   "execution_count": 4,
   "metadata": {},
   "outputs": [
    {
     "data": {
      "text/html": [
       "<div>\n",
       "<style scoped>\n",
       "    .dataframe tbody tr th:only-of-type {\n",
       "        vertical-align: middle;\n",
       "    }\n",
       "\n",
       "    .dataframe tbody tr th {\n",
       "        vertical-align: top;\n",
       "    }\n",
       "\n",
       "    .dataframe thead th {\n",
       "        text-align: right;\n",
       "    }\n",
       "</style>\n",
       "<table border=\"1\" class=\"dataframe\">\n",
       "  <thead>\n",
       "    <tr style=\"text-align: right;\">\n",
       "      <th></th>\n",
       "      <th>class</th>\n",
       "      <th>column</th>\n",
       "      <th>course</th>\n",
       "      <th>date_time</th>\n",
       "      <th>latitude</th>\n",
       "      <th>longitude</th>\n",
       "      <th>mmsi</th>\n",
       "      <th>next_status_60_column</th>\n",
       "      <th>next_status_60_date_time</th>\n",
       "      <th>next_status_60_row</th>\n",
       "      <th>row</th>\n",
       "      <th>speed</th>\n",
       "    </tr>\n",
       "  </thead>\n",
       "  <tbody>\n",
       "    <tr>\n",
       "      <th>0</th>\n",
       "      <td>0.0</td>\n",
       "      <td>126.0</td>\n",
       "      <td>0.571429</td>\n",
       "      <td>2016-10-26 00:20:28+00:00</td>\n",
       "      <td>35.35294</td>\n",
       "      <td>12.63126</td>\n",
       "      <td>111247508.0</td>\n",
       "      <td>129.0</td>\n",
       "      <td>2016-10-26 01:20:27+00:00</td>\n",
       "      <td>340.0</td>\n",
       "      <td>353.0</td>\n",
       "      <td>0.666667</td>\n",
       "    </tr>\n",
       "    <tr>\n",
       "      <th>1</th>\n",
       "      <td>0.0</td>\n",
       "      <td>126.0</td>\n",
       "      <td>0.571429</td>\n",
       "      <td>2016-10-26 00:23:29+00:00</td>\n",
       "      <td>35.35294</td>\n",
       "      <td>12.63126</td>\n",
       "      <td>111247508.0</td>\n",
       "      <td>129.0</td>\n",
       "      <td>2016-10-26 01:23:29+00:00</td>\n",
       "      <td>340.0</td>\n",
       "      <td>353.0</td>\n",
       "      <td>0.666667</td>\n",
       "    </tr>\n",
       "    <tr>\n",
       "      <th>2</th>\n",
       "      <td>0.0</td>\n",
       "      <td>127.0</td>\n",
       "      <td>0.571429</td>\n",
       "      <td>2016-10-26 00:35:27+00:00</td>\n",
       "      <td>34.95978</td>\n",
       "      <td>12.71980</td>\n",
       "      <td>111247508.0</td>\n",
       "      <td>129.0</td>\n",
       "      <td>2016-10-26 01:35:18+00:00</td>\n",
       "      <td>340.0</td>\n",
       "      <td>349.0</td>\n",
       "      <td>0.666667</td>\n",
       "    </tr>\n",
       "    <tr>\n",
       "      <th>3</th>\n",
       "      <td>0.0</td>\n",
       "      <td>128.0</td>\n",
       "      <td>0.571429</td>\n",
       "      <td>2016-10-26 00:56:17+00:00</td>\n",
       "      <td>34.21719</td>\n",
       "      <td>12.88836</td>\n",
       "      <td>111247508.0</td>\n",
       "      <td>128.0</td>\n",
       "      <td>2016-10-26 01:56:21+00:00</td>\n",
       "      <td>342.0</td>\n",
       "      <td>342.0</td>\n",
       "      <td>0.333333</td>\n",
       "    </tr>\n",
       "    <tr>\n",
       "      <th>4</th>\n",
       "      <td>0.0</td>\n",
       "      <td>129.0</td>\n",
       "      <td>0.000000</td>\n",
       "      <td>2016-10-26 01:11:10+00:00</td>\n",
       "      <td>34.01085</td>\n",
       "      <td>12.97691</td>\n",
       "      <td>111247508.0</td>\n",
       "      <td>127.0</td>\n",
       "      <td>2016-10-26 02:11:24+00:00</td>\n",
       "      <td>348.0</td>\n",
       "      <td>340.0</td>\n",
       "      <td>0.333333</td>\n",
       "    </tr>\n",
       "  </tbody>\n",
       "</table>\n",
       "</div>"
      ],
      "text/plain": [
       "   class  column    course                  date_time  latitude  longitude  \\\n",
       "0    0.0   126.0  0.571429  2016-10-26 00:20:28+00:00  35.35294   12.63126   \n",
       "1    0.0   126.0  0.571429  2016-10-26 00:23:29+00:00  35.35294   12.63126   \n",
       "2    0.0   127.0  0.571429  2016-10-26 00:35:27+00:00  34.95978   12.71980   \n",
       "3    0.0   128.0  0.571429  2016-10-26 00:56:17+00:00  34.21719   12.88836   \n",
       "4    0.0   129.0  0.000000  2016-10-26 01:11:10+00:00  34.01085   12.97691   \n",
       "\n",
       "          mmsi  next_status_60_column   next_status_60_date_time  \\\n",
       "0  111247508.0                  129.0  2016-10-26 01:20:27+00:00   \n",
       "1  111247508.0                  129.0  2016-10-26 01:23:29+00:00   \n",
       "2  111247508.0                  129.0  2016-10-26 01:35:18+00:00   \n",
       "3  111247508.0                  128.0  2016-10-26 01:56:21+00:00   \n",
       "4  111247508.0                  127.0  2016-10-26 02:11:24+00:00   \n",
       "\n",
       "   next_status_60_row    row     speed  \n",
       "0               340.0  353.0  0.666667  \n",
       "1               340.0  353.0  0.666667  \n",
       "2               340.0  349.0  0.666667  \n",
       "3               342.0  342.0  0.333333  \n",
       "4               348.0  340.0  0.333333  "
      ]
     },
     "execution_count": 4,
     "metadata": {},
     "output_type": "execute_result"
    }
   ],
   "source": [
    "df.head()"
   ]
  },
  {
   "cell_type": "code",
   "execution_count": 5,
   "metadata": {},
   "outputs": [],
   "source": [
    "df['target_label'] = df['next_status_60_row'].astype(int).astype(str) + '_' +  df['next_status_60_column'].astype(int).astype(str)"
   ]
  },
  {
   "cell_type": "code",
   "execution_count": 6,
   "metadata": {},
   "outputs": [
    {
     "data": {
      "text/plain": [
       "0    340_129\n",
       "1    340_129\n",
       "2    340_129\n",
       "3    342_128\n",
       "4    348_127\n",
       "Name: target_label, dtype: object"
      ]
     },
     "execution_count": 6,
     "metadata": {},
     "output_type": "execute_result"
    }
   ],
   "source": [
    "df['target_label'].head()"
   ]
  },
  {
   "cell_type": "code",
   "execution_count": 7,
   "metadata": {},
   "outputs": [],
   "source": [
    "from sklearn.preprocessing import MultiLabelBinarizer\n",
    "\n",
    "mlb = MultiLabelBinarizer()\n",
    "target = mlb.fit_transform([df['target_label'].tolist()])[0]"
   ]
  },
  {
   "cell_type": "code",
   "execution_count": 8,
   "metadata": {},
   "outputs": [
    {
     "data": {
      "text/plain": [
       "2586"
      ]
     },
     "execution_count": 8,
     "metadata": {},
     "output_type": "execute_result"
    }
   ],
   "source": [
    "len(mlb.classes_)"
   ]
  },
  {
   "cell_type": "code",
   "execution_count": 9,
   "metadata": {},
   "outputs": [
    {
     "data": {
      "text/plain": [
       "2586"
      ]
     },
     "execution_count": 9,
     "metadata": {},
     "output_type": "execute_result"
    }
   ],
   "source": [
    "len(target)"
   ]
  },
  {
   "cell_type": "code",
   "execution_count": 10,
   "metadata": {},
   "outputs": [],
   "source": [
    "def get_target(x):\n",
    "    return mlb.transform([x]).tolist()[0].index(1)"
   ]
  },
  {
   "cell_type": "code",
   "execution_count": 11,
   "metadata": {},
   "outputs": [],
   "source": [
    "df['target'] = df['target_label'].apply(lambda x: get_target([x]))"
   ]
  },
  {
   "cell_type": "code",
   "execution_count": 12,
   "metadata": {},
   "outputs": [
    {
     "data": {
      "text/plain": [
       "0     675\n",
       "1     675\n",
       "2     675\n",
       "3     794\n",
       "4    1110\n",
       "Name: target, dtype: int64"
      ]
     },
     "execution_count": 12,
     "metadata": {},
     "output_type": "execute_result"
    }
   ],
   "source": [
    "df['target'].head()"
   ]
  },
  {
   "cell_type": "code",
   "execution_count": null,
   "metadata": {},
   "outputs": [],
   "source": []
  },
  {
   "cell_type": "code",
   "execution_count": 13,
   "metadata": {},
   "outputs": [
    {
     "data": {
      "text/plain": [
       "Text(0.5, 1.0, 'Target Distribution')"
      ]
     },
     "execution_count": 13,
     "metadata": {},
     "output_type": "execute_result"
    },
    {
     "data": {
      "image/png": "[encoded data removed]",
      "text/plain": [
       "<Figure size 432x288 with 1 Axes>"
      ]
     },
     "metadata": {
      "needs_background": "light"
     },
     "output_type": "display_data"
    }
   ],
   "source": [
    "%matplotlib inline\n",
    "import matplotlib as plt\n",
    "from matplotlib import pyplot\n",
    "plt.pyplot.hist(df[\"target\"])\n",
    "\n",
    "# set x/y labels and plot title\n",
    "plt.pyplot.xlabel(\"target class\")\n",
    "plt.pyplot.ylabel(\"count\")\n",
    "plt.pyplot.title(\"Target Distribution\")"
   ]
  },
  {
   "cell_type": "code",
   "execution_count": 14,
   "metadata": {},
   "outputs": [],
   "source": [
    "target_distribution = df['target'].value_counts()"
   ]
  },
  {
   "cell_type": "code",
   "execution_count": 15,
   "metadata": {},
   "outputs": [
    {
     "data": {
      "text/plain": [
       "1"
      ]
     },
     "execution_count": 15,
     "metadata": {},
     "output_type": "execute_result"
    }
   ],
   "source": [
    "target_distribution.min()"
   ]
  },
  {
   "cell_type": "code",
   "execution_count": 16,
   "metadata": {},
   "outputs": [
    {
     "data": {
      "text/plain": [
       "1575185"
      ]
     },
     "execution_count": 16,
     "metadata": {},
     "output_type": "execute_result"
    }
   ],
   "source": [
    "target_distribution.max()"
   ]
  },
  {
   "cell_type": "code",
   "execution_count": 17,
   "metadata": {},
   "outputs": [
    {
     "data": {
      "text/plain": [
       "10596.84068058778"
      ]
     },
     "execution_count": 17,
     "metadata": {},
     "output_type": "execute_result"
    }
   ],
   "source": [
    "target_distribution.mean()"
   ]
  },
  {
   "cell_type": "markdown",
   "metadata": {},
   "source": [
    "# Standardization\n",
    "\n",
    "Standardize row and column. Use simple scaling"
   ]
  },
  {
   "cell_type": "code",
   "execution_count": 18,
   "metadata": {},
   "outputs": [],
   "source": [
    "df['row'] = df['row']/df['row'].max()"
   ]
  },
  {
   "cell_type": "code",
   "execution_count": 19,
   "metadata": {},
   "outputs": [],
   "source": [
    "df['column'] = df['column']/df['column'].max()"
   ]
  },
  {
   "cell_type": "code",
   "execution_count": 20,
   "metadata": {},
   "outputs": [
    {
     "data": {
      "text/html": [
       "<div>\n",
       "<style scoped>\n",
       "    .dataframe tbody tr th:only-of-type {\n",
       "        vertical-align: middle;\n",
       "    }\n",
       "\n",
       "    .dataframe tbody tr th {\n",
       "        vertical-align: top;\n",
       "    }\n",
       "\n",
       "    .dataframe thead th {\n",
       "        text-align: right;\n",
       "    }\n",
       "</style>\n",
       "<table border=\"1\" class=\"dataframe\">\n",
       "  <thead>\n",
       "    <tr style=\"text-align: right;\">\n",
       "      <th></th>\n",
       "      <th>class</th>\n",
       "      <th>column</th>\n",
       "      <th>course</th>\n",
       "      <th>date_time</th>\n",
       "      <th>latitude</th>\n",
       "      <th>longitude</th>\n",
       "      <th>mmsi</th>\n",
       "      <th>next_status_60_column</th>\n",
       "      <th>next_status_60_date_time</th>\n",
       "      <th>next_status_60_row</th>\n",
       "      <th>row</th>\n",
       "      <th>speed</th>\n",
       "      <th>target_label</th>\n",
       "      <th>target</th>\n",
       "    </tr>\n",
       "  </thead>\n",
       "  <tbody>\n",
       "    <tr>\n",
       "      <th>0</th>\n",
       "      <td>0.0</td>\n",
       "      <td>0.78750</td>\n",
       "      <td>0.571429</td>\n",
       "      <td>2016-10-26 00:20:28+00:00</td>\n",
       "      <td>35.35294</td>\n",
       "      <td>12.63126</td>\n",
       "      <td>111247508.0</td>\n",
       "      <td>129.0</td>\n",
       "      <td>2016-10-26 01:20:27+00:00</td>\n",
       "      <td>340.0</td>\n",
       "      <td>0.936340</td>\n",
       "      <td>0.666667</td>\n",
       "      <td>340_129</td>\n",
       "      <td>675</td>\n",
       "    </tr>\n",
       "    <tr>\n",
       "      <th>1</th>\n",
       "      <td>0.0</td>\n",
       "      <td>0.78750</td>\n",
       "      <td>0.571429</td>\n",
       "      <td>2016-10-26 00:23:29+00:00</td>\n",
       "      <td>35.35294</td>\n",
       "      <td>12.63126</td>\n",
       "      <td>111247508.0</td>\n",
       "      <td>129.0</td>\n",
       "      <td>2016-10-26 01:23:29+00:00</td>\n",
       "      <td>340.0</td>\n",
       "      <td>0.936340</td>\n",
       "      <td>0.666667</td>\n",
       "      <td>340_129</td>\n",
       "      <td>675</td>\n",
       "    </tr>\n",
       "    <tr>\n",
       "      <th>2</th>\n",
       "      <td>0.0</td>\n",
       "      <td>0.79375</td>\n",
       "      <td>0.571429</td>\n",
       "      <td>2016-10-26 00:35:27+00:00</td>\n",
       "      <td>34.95978</td>\n",
       "      <td>12.71980</td>\n",
       "      <td>111247508.0</td>\n",
       "      <td>129.0</td>\n",
       "      <td>2016-10-26 01:35:18+00:00</td>\n",
       "      <td>340.0</td>\n",
       "      <td>0.925729</td>\n",
       "      <td>0.666667</td>\n",
       "      <td>340_129</td>\n",
       "      <td>675</td>\n",
       "    </tr>\n",
       "    <tr>\n",
       "      <th>3</th>\n",
       "      <td>0.0</td>\n",
       "      <td>0.80000</td>\n",
       "      <td>0.571429</td>\n",
       "      <td>2016-10-26 00:56:17+00:00</td>\n",
       "      <td>34.21719</td>\n",
       "      <td>12.88836</td>\n",
       "      <td>111247508.0</td>\n",
       "      <td>128.0</td>\n",
       "      <td>2016-10-26 01:56:21+00:00</td>\n",
       "      <td>342.0</td>\n",
       "      <td>0.907162</td>\n",
       "      <td>0.333333</td>\n",
       "      <td>342_128</td>\n",
       "      <td>794</td>\n",
       "    </tr>\n",
       "    <tr>\n",
       "      <th>4</th>\n",
       "      <td>0.0</td>\n",
       "      <td>0.80625</td>\n",
       "      <td>0.000000</td>\n",
       "      <td>2016-10-26 01:11:10+00:00</td>\n",
       "      <td>34.01085</td>\n",
       "      <td>12.97691</td>\n",
       "      <td>111247508.0</td>\n",
       "      <td>127.0</td>\n",
       "      <td>2016-10-26 02:11:24+00:00</td>\n",
       "      <td>348.0</td>\n",
       "      <td>0.901857</td>\n",
       "      <td>0.333333</td>\n",
       "      <td>348_127</td>\n",
       "      <td>1110</td>\n",
       "    </tr>\n",
       "  </tbody>\n",
       "</table>\n",
       "</div>"
      ],
      "text/plain": [
       "   class   column    course                  date_time  latitude  longitude  \\\n",
       "0    0.0  0.78750  0.571429  2016-10-26 00:20:28+00:00  35.35294   12.63126   \n",
       "1    0.0  0.78750  0.571429  2016-10-26 00:23:29+00:00  35.35294   12.63126   \n",
       "2    0.0  0.79375  0.571429  2016-10-26 00:35:27+00:00  34.95978   12.71980   \n",
       "3    0.0  0.80000  0.571429  2016-10-26 00:56:17+00:00  34.21719   12.88836   \n",
       "4    0.0  0.80625  0.000000  2016-10-26 01:11:10+00:00  34.01085   12.97691   \n",
       "\n",
       "          mmsi  next_status_60_column   next_status_60_date_time  \\\n",
       "0  111247508.0                  129.0  2016-10-26 01:20:27+00:00   \n",
       "1  111247508.0                  129.0  2016-10-26 01:23:29+00:00   \n",
       "2  111247508.0                  129.0  2016-10-26 01:35:18+00:00   \n",
       "3  111247508.0                  128.0  2016-10-26 01:56:21+00:00   \n",
       "4  111247508.0                  127.0  2016-10-26 02:11:24+00:00   \n",
       "\n",
       "   next_status_60_row       row     speed target_label  target  \n",
       "0               340.0  0.936340  0.666667      340_129     675  \n",
       "1               340.0  0.936340  0.666667      340_129     675  \n",
       "2               340.0  0.925729  0.666667      340_129     675  \n",
       "3               342.0  0.907162  0.333333      342_128     794  \n",
       "4               348.0  0.901857  0.333333      348_127    1110  "
      ]
     },
     "execution_count": 20,
     "metadata": {},
     "output_type": "execute_result"
    }
   ],
   "source": [
    "df.head()"
   ]
  },
  {
   "cell_type": "code",
   "execution_count": 43,
   "metadata": {},
   "outputs": [],
   "source": [
    "import numpy as np\n",
    "\n",
    "df['date_time'] = pd.to_datetime(df['date_time'])\n",
    "\n",
    "df['hour_sin'] = np.sin(2 * np.pi * df['date_time'].dt.hour/24.0)\n",
    "df['hour_cos'] = np.cos(2 * np.pi * df['date_time'].dt.hour/24.0)"
   ]
  },
  {
   "cell_type": "code",
   "execution_count": 35,
   "metadata": {},
   "outputs": [
    {
     "data": {
      "image/png": "[encoded data removed]",
      "text/plain": [
       "<Figure size 432x288 with 1 Axes>"
      ]
     },
     "metadata": {
      "needs_background": "light"
     },
     "output_type": "display_data"
    }
   ],
   "source": [
    "import matplotlib.pyplot as plt\n",
    "plt.scatter(df['hour_cos'], df['hour_sin'])\n",
    "plt.title('HOUR')\n",
    "plt.xlabel('cos')\n",
    "plt.ylabel('sin')\n",
    "plt.show()"
   ]
  },
  {
   "cell_type": "code",
   "execution_count": 44,
   "metadata": {},
   "outputs": [],
   "source": [
    "df['month_sin'] = np.sin(2 * np.pi * df['date_time'].dt.month/12.0)\n",
    "df['month_cos'] = np.cos(2 * np.pi * df['date_time'].dt.month/12.0)"
   ]
  },
  {
   "cell_type": "code",
   "execution_count": 36,
   "metadata": {},
   "outputs": [
    {
     "data": {
      "image/png": "[encoded data removed]",
      "text/plain": [
       "<Figure size 432x288 with 1 Axes>"
      ]
     },
     "metadata": {
      "needs_background": "light"
     },
     "output_type": "display_data"
    }
   ],
   "source": [
    "plt.scatter(df['month_cos'], df['month_sin'])\n",
    "plt.title('MONTH')\n",
    "plt.xlabel('cos')\n",
    "plt.ylabel('sin')\n",
    "plt.show()"
   ]
  },
  {
   "cell_type": "code",
   "execution_count": 45,
   "metadata": {},
   "outputs": [],
   "source": [
    "df['day_sin'] = np.sin(2 * np.pi * df['date_time'].dt.dayofyear/365.0)\n",
    "df['day_cos'] = np.cos(2 * np.pi * df['date_time'].dt.dayofyear/365.0)"
   ]
  },
  {
   "cell_type": "code",
   "execution_count": 37,
   "metadata": {},
   "outputs": [
    {
     "data": {
      "image/png": "[encoded data removed]",
      "text/plain": [
       "<Figure size 432x288 with 1 Axes>"
      ]
     },
     "metadata": {
      "needs_background": "light"
     },
     "output_type": "display_data"
    }
   ],
   "source": [
    "plt.scatter(df['day_cos'], df['day_sin'])\n",
    "plt.title('DAY')\n",
    "plt.xlabel('cos')\n",
    "plt.ylabel('sin')\n",
    "plt.show()"
   ]
  },
  {
   "cell_type": "code",
   "execution_count": 38,
   "metadata": {},
   "outputs": [],
   "source": [
    "#df['hour_sin'] = df['hour_sin']/df['hour_sin'].max()\n",
    "#df['hour_cos'] = df['hour_cos']/df['hour_cos'].max()\n",
    "#df['month_sin'] = df['month_sin']/df['month_sin'].max()\n",
    "#df['month_cos'] = df['month_cos']/df['month_cos'].max()\n",
    "#df['day_sin'] = df['day_sin']/df['day_sin'].max()\n",
    "#df['day_cos'] = df['day_cos']/df['day_cos'].max()"
   ]
  },
  {
   "cell_type": "code",
   "execution_count": 39,
   "metadata": {},
   "outputs": [
    {
     "data": {
      "text/plain": [
       "(27403430, 20)"
      ]
     },
     "execution_count": 39,
     "metadata": {},
     "output_type": "execute_result"
    }
   ],
   "source": [
    "df.shape"
   ]
  },
  {
   "cell_type": "code",
   "execution_count": 46,
   "metadata": {},
   "outputs": [],
   "source": [
    "columns = ['class', 'course', 'speed', 'row','column','hour_sin','hour_cos','day_sin','day_cos', 'month_sin', 'month_cos','target', 'next_status_60_column', 'next_status_60_row']\n",
    "df.to_csv('source/dataset_60.csv', columns = columns)"
   ]
  },
  {
   "cell_type": "code",
   "execution_count": 47,
   "metadata": {},
   "outputs": [
    {
     "data": {
      "text/html": [
       "<div>\n",
       "<style scoped>\n",
       "    .dataframe tbody tr th:only-of-type {\n",
       "        vertical-align: middle;\n",
       "    }\n",
       "\n",
       "    .dataframe tbody tr th {\n",
       "        vertical-align: top;\n",
       "    }\n",
       "\n",
       "    .dataframe thead th {\n",
       "        text-align: right;\n",
       "    }\n",
       "</style>\n",
       "<table border=\"1\" class=\"dataframe\">\n",
       "  <thead>\n",
       "    <tr style=\"text-align: right;\">\n",
       "      <th></th>\n",
       "      <th>class</th>\n",
       "      <th>column</th>\n",
       "      <th>course</th>\n",
       "      <th>date_time</th>\n",
       "      <th>latitude</th>\n",
       "      <th>longitude</th>\n",
       "      <th>mmsi</th>\n",
       "      <th>next_status_60_column</th>\n",
       "      <th>next_status_60_date_time</th>\n",
       "      <th>next_status_60_row</th>\n",
       "      <th>row</th>\n",
       "      <th>speed</th>\n",
       "      <th>target_label</th>\n",
       "      <th>target</th>\n",
       "      <th>hour_sin</th>\n",
       "      <th>hour_cos</th>\n",
       "      <th>month_sin</th>\n",
       "      <th>month_cos</th>\n",
       "      <th>day_sin</th>\n",
       "      <th>day_cos</th>\n",
       "    </tr>\n",
       "  </thead>\n",
       "  <tbody>\n",
       "    <tr>\n",
       "      <th>0</th>\n",
       "      <td>0.0</td>\n",
       "      <td>0.78750</td>\n",
       "      <td>0.571429</td>\n",
       "      <td>2016-10-26 00:20:28+00:00</td>\n",
       "      <td>35.35294</td>\n",
       "      <td>12.63126</td>\n",
       "      <td>111247508.0</td>\n",
       "      <td>129.0</td>\n",
       "      <td>2016-10-26 01:20:27+00:00</td>\n",
       "      <td>340.0</td>\n",
       "      <td>0.936340</td>\n",
       "      <td>0.666667</td>\n",
       "      <td>340_129</td>\n",
       "      <td>675</td>\n",
       "      <td>0.000000</td>\n",
       "      <td>1.000000</td>\n",
       "      <td>-0.866025</td>\n",
       "      <td>0.5</td>\n",
       "      <td>-0.899631</td>\n",
       "      <td>0.436651</td>\n",
       "    </tr>\n",
       "    <tr>\n",
       "      <th>1</th>\n",
       "      <td>0.0</td>\n",
       "      <td>0.78750</td>\n",
       "      <td>0.571429</td>\n",
       "      <td>2016-10-26 00:23:29+00:00</td>\n",
       "      <td>35.35294</td>\n",
       "      <td>12.63126</td>\n",
       "      <td>111247508.0</td>\n",
       "      <td>129.0</td>\n",
       "      <td>2016-10-26 01:23:29+00:00</td>\n",
       "      <td>340.0</td>\n",
       "      <td>0.936340</td>\n",
       "      <td>0.666667</td>\n",
       "      <td>340_129</td>\n",
       "      <td>675</td>\n",
       "      <td>0.000000</td>\n",
       "      <td>1.000000</td>\n",
       "      <td>-0.866025</td>\n",
       "      <td>0.5</td>\n",
       "      <td>-0.899631</td>\n",
       "      <td>0.436651</td>\n",
       "    </tr>\n",
       "    <tr>\n",
       "      <th>2</th>\n",
       "      <td>0.0</td>\n",
       "      <td>0.79375</td>\n",
       "      <td>0.571429</td>\n",
       "      <td>2016-10-26 00:35:27+00:00</td>\n",
       "      <td>34.95978</td>\n",
       "      <td>12.71980</td>\n",
       "      <td>111247508.0</td>\n",
       "      <td>129.0</td>\n",
       "      <td>2016-10-26 01:35:18+00:00</td>\n",
       "      <td>340.0</td>\n",
       "      <td>0.925729</td>\n",
       "      <td>0.666667</td>\n",
       "      <td>340_129</td>\n",
       "      <td>675</td>\n",
       "      <td>0.000000</td>\n",
       "      <td>1.000000</td>\n",
       "      <td>-0.866025</td>\n",
       "      <td>0.5</td>\n",
       "      <td>-0.899631</td>\n",
       "      <td>0.436651</td>\n",
       "    </tr>\n",
       "    <tr>\n",
       "      <th>3</th>\n",
       "      <td>0.0</td>\n",
       "      <td>0.80000</td>\n",
       "      <td>0.571429</td>\n",
       "      <td>2016-10-26 00:56:17+00:00</td>\n",
       "      <td>34.21719</td>\n",
       "      <td>12.88836</td>\n",
       "      <td>111247508.0</td>\n",
       "      <td>128.0</td>\n",
       "      <td>2016-10-26 01:56:21+00:00</td>\n",
       "      <td>342.0</td>\n",
       "      <td>0.907162</td>\n",
       "      <td>0.333333</td>\n",
       "      <td>342_128</td>\n",
       "      <td>794</td>\n",
       "      <td>0.000000</td>\n",
       "      <td>1.000000</td>\n",
       "      <td>-0.866025</td>\n",
       "      <td>0.5</td>\n",
       "      <td>-0.899631</td>\n",
       "      <td>0.436651</td>\n",
       "    </tr>\n",
       "    <tr>\n",
       "      <th>4</th>\n",
       "      <td>0.0</td>\n",
       "      <td>0.80625</td>\n",
       "      <td>0.000000</td>\n",
       "      <td>2016-10-26 01:11:10+00:00</td>\n",
       "      <td>34.01085</td>\n",
       "      <td>12.97691</td>\n",
       "      <td>111247508.0</td>\n",
       "      <td>127.0</td>\n",
       "      <td>2016-10-26 02:11:24+00:00</td>\n",
       "      <td>348.0</td>\n",
       "      <td>0.901857</td>\n",
       "      <td>0.333333</td>\n",
       "      <td>348_127</td>\n",
       "      <td>1110</td>\n",
       "      <td>0.258819</td>\n",
       "      <td>0.965926</td>\n",
       "      <td>-0.866025</td>\n",
       "      <td>0.5</td>\n",
       "      <td>-0.899631</td>\n",
       "      <td>0.436651</td>\n",
       "    </tr>\n",
       "  </tbody>\n",
       "</table>\n",
       "</div>"
      ],
      "text/plain": [
       "   class   column    course                 date_time  latitude  longitude  \\\n",
       "0    0.0  0.78750  0.571429 2016-10-26 00:20:28+00:00  35.35294   12.63126   \n",
       "1    0.0  0.78750  0.571429 2016-10-26 00:23:29+00:00  35.35294   12.63126   \n",
       "2    0.0  0.79375  0.571429 2016-10-26 00:35:27+00:00  34.95978   12.71980   \n",
       "3    0.0  0.80000  0.571429 2016-10-26 00:56:17+00:00  34.21719   12.88836   \n",
       "4    0.0  0.80625  0.000000 2016-10-26 01:11:10+00:00  34.01085   12.97691   \n",
       "\n",
       "          mmsi  next_status_60_column   next_status_60_date_time  \\\n",
       "0  111247508.0                  129.0  2016-10-26 01:20:27+00:00   \n",
       "1  111247508.0                  129.0  2016-10-26 01:23:29+00:00   \n",
       "2  111247508.0                  129.0  2016-10-26 01:35:18+00:00   \n",
       "3  111247508.0                  128.0  2016-10-26 01:56:21+00:00   \n",
       "4  111247508.0                  127.0  2016-10-26 02:11:24+00:00   \n",
       "\n",
       "   next_status_60_row       row     speed target_label  target  hour_sin  \\\n",
       "0               340.0  0.936340  0.666667      340_129     675  0.000000   \n",
       "1               340.0  0.936340  0.666667      340_129     675  0.000000   \n",
       "2               340.0  0.925729  0.666667      340_129     675  0.000000   \n",
       "3               342.0  0.907162  0.333333      342_128     794  0.000000   \n",
       "4               348.0  0.901857  0.333333      348_127    1110  0.258819   \n",
       "\n",
       "   hour_cos  month_sin  month_cos   day_sin   day_cos  \n",
       "0  1.000000  -0.866025        0.5 -0.899631  0.436651  \n",
       "1  1.000000  -0.866025        0.5 -0.899631  0.436651  \n",
       "2  1.000000  -0.866025        0.5 -0.899631  0.436651  \n",
       "3  1.000000  -0.866025        0.5 -0.899631  0.436651  \n",
       "4  0.965926  -0.866025        0.5 -0.899631  0.436651  "
      ]
     },
     "execution_count": 47,
     "metadata": {},
     "output_type": "execute_result"
    }
   ],
   "source": [
    "df.head()"
   ]
  },
  {
   "cell_type": "markdown",
   "metadata": {},
   "source": [
    "# Bibliography\n",
    "* [Best practice for encoding datetime in machine learning](https://stats.stackexchange.com/questions/311494/best-practice-for-encoding-datetime-in-machine-learning)\n",
    "* [What is a good way to transform Cyclic Ordinal attributes?](https://datascience.stackexchange.com/questions/5990/what-is-a-good-way-to-transform-cyclic-ordinal-attributes)"
   ]
  },
  {
   "cell_type": "code",
   "execution_count": null,
   "metadata": {},
   "outputs": [],
   "source": []
  }
 ],
 "metadata": {
  "kernelspec": {
   "display_name": "Python 3",
   "language": "python",
   "name": "python3"
  },
  "language_info": {
   "codemirror_mode": {
    "name": "ipython",
    "version": 3
   },
   "file_extension": ".py",
   "mimetype": "text/x-python",
   "name": "python",
   "nbconvert_exporter": "python",
   "pygments_lexer": "ipython3",
   "version": "3.8.1"
  }
 },
 "nbformat": 4,
 "nbformat_minor": 4
}
