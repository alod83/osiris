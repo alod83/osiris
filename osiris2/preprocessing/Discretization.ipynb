{
 "cells": [
  {
   "cell_type": "code",
   "execution_count": 13,
   "metadata": {},
   "outputs": [
    {
     "data": {
      "text/html": [
       "<div>\n",
       "<style scoped>\n",
       "    .dataframe tbody tr th:only-of-type {\n",
       "        vertical-align: middle;\n",
       "    }\n",
       "\n",
       "    .dataframe tbody tr th {\n",
       "        vertical-align: top;\n",
       "    }\n",
       "\n",
       "    .dataframe thead th {\n",
       "        text-align: right;\n",
       "    }\n",
       "</style>\n",
       "<table border=\"1\" class=\"dataframe\">\n",
       "  <thead>\n",
       "    <tr style=\"text-align: right;\">\n",
       "      <th></th>\n",
       "      <th>Unnamed: 0</th>\n",
       "      <th>Unnamed: 0.1</th>\n",
       "      <th>Unnamed: 0.1.1</th>\n",
       "      <th>class</th>\n",
       "      <th>column</th>\n",
       "      <th>course</th>\n",
       "      <th>date_time</th>\n",
       "      <th>index</th>\n",
       "      <th>latitude</th>\n",
       "      <th>longitude</th>\n",
       "      <th>mmsi</th>\n",
       "      <th>next_status_60_column</th>\n",
       "      <th>next_status_60_date_time</th>\n",
       "      <th>next_status_60_row</th>\n",
       "      <th>row</th>\n",
       "      <th>speed</th>\n",
       "    </tr>\n",
       "  </thead>\n",
       "  <tbody>\n",
       "    <tr>\n",
       "      <th>0</th>\n",
       "      <td>13</td>\n",
       "      <td>13</td>\n",
       "      <td>13.0</td>\n",
       "      <td>0.0</td>\n",
       "      <td>126.0</td>\n",
       "      <td>0.571429</td>\n",
       "      <td>2016-10-26 00:20:28+00:00</td>\n",
       "      <td>15568808.0</td>\n",
       "      <td>35.35294</td>\n",
       "      <td>12.63126</td>\n",
       "      <td>111247508.0</td>\n",
       "      <td>129.0</td>\n",
       "      <td>2016-10-26 01:20:27+00:00</td>\n",
       "      <td>340.0</td>\n",
       "      <td>353.0</td>\n",
       "      <td>0.666667</td>\n",
       "    </tr>\n",
       "    <tr>\n",
       "      <th>1</th>\n",
       "      <td>14</td>\n",
       "      <td>14</td>\n",
       "      <td>14.0</td>\n",
       "      <td>0.0</td>\n",
       "      <td>126.0</td>\n",
       "      <td>0.571429</td>\n",
       "      <td>2016-10-26 00:23:29+00:00</td>\n",
       "      <td>15568993.0</td>\n",
       "      <td>35.35294</td>\n",
       "      <td>12.63126</td>\n",
       "      <td>111247508.0</td>\n",
       "      <td>129.0</td>\n",
       "      <td>2016-10-26 01:23:29+00:00</td>\n",
       "      <td>340.0</td>\n",
       "      <td>353.0</td>\n",
       "      <td>0.666667</td>\n",
       "    </tr>\n",
       "    <tr>\n",
       "      <th>2</th>\n",
       "      <td>15</td>\n",
       "      <td>15</td>\n",
       "      <td>15.0</td>\n",
       "      <td>0.0</td>\n",
       "      <td>127.0</td>\n",
       "      <td>0.571429</td>\n",
       "      <td>2016-10-26 00:35:27+00:00</td>\n",
       "      <td>15569644.0</td>\n",
       "      <td>34.95978</td>\n",
       "      <td>12.71980</td>\n",
       "      <td>111247508.0</td>\n",
       "      <td>129.0</td>\n",
       "      <td>2016-10-26 01:35:18+00:00</td>\n",
       "      <td>340.0</td>\n",
       "      <td>349.0</td>\n",
       "      <td>0.666667</td>\n",
       "    </tr>\n",
       "    <tr>\n",
       "      <th>3</th>\n",
       "      <td>16</td>\n",
       "      <td>16</td>\n",
       "      <td>16.0</td>\n",
       "      <td>0.0</td>\n",
       "      <td>128.0</td>\n",
       "      <td>0.571429</td>\n",
       "      <td>2016-10-26 00:56:17+00:00</td>\n",
       "      <td>15570855.0</td>\n",
       "      <td>34.21719</td>\n",
       "      <td>12.88836</td>\n",
       "      <td>111247508.0</td>\n",
       "      <td>128.0</td>\n",
       "      <td>2016-10-26 01:56:21+00:00</td>\n",
       "      <td>342.0</td>\n",
       "      <td>342.0</td>\n",
       "      <td>0.333333</td>\n",
       "    </tr>\n",
       "    <tr>\n",
       "      <th>4</th>\n",
       "      <td>17</td>\n",
       "      <td>17</td>\n",
       "      <td>17.0</td>\n",
       "      <td>0.0</td>\n",
       "      <td>129.0</td>\n",
       "      <td>0.000000</td>\n",
       "      <td>2016-10-26 01:11:10+00:00</td>\n",
       "      <td>15571708.0</td>\n",
       "      <td>34.01085</td>\n",
       "      <td>12.97691</td>\n",
       "      <td>111247508.0</td>\n",
       "      <td>127.0</td>\n",
       "      <td>2016-10-26 02:11:24+00:00</td>\n",
       "      <td>348.0</td>\n",
       "      <td>340.0</td>\n",
       "      <td>0.333333</td>\n",
       "    </tr>\n",
       "  </tbody>\n",
       "</table>\n",
       "</div>"
      ],
      "text/plain": [
       "   Unnamed: 0  Unnamed: 0.1  Unnamed: 0.1.1  class  column    course  \\\n",
       "0          13            13            13.0    0.0   126.0  0.571429   \n",
       "1          14            14            14.0    0.0   126.0  0.571429   \n",
       "2          15            15            15.0    0.0   127.0  0.571429   \n",
       "3          16            16            16.0    0.0   128.0  0.571429   \n",
       "4          17            17            17.0    0.0   129.0  0.000000   \n",
       "\n",
       "                   date_time       index  latitude  longitude         mmsi  \\\n",
       "0  2016-10-26 00:20:28+00:00  15568808.0  35.35294   12.63126  111247508.0   \n",
       "1  2016-10-26 00:23:29+00:00  15568993.0  35.35294   12.63126  111247508.0   \n",
       "2  2016-10-26 00:35:27+00:00  15569644.0  34.95978   12.71980  111247508.0   \n",
       "3  2016-10-26 00:56:17+00:00  15570855.0  34.21719   12.88836  111247508.0   \n",
       "4  2016-10-26 01:11:10+00:00  15571708.0  34.01085   12.97691  111247508.0   \n",
       "\n",
       "   next_status_60_column   next_status_60_date_time  next_status_60_row  \\\n",
       "0                  129.0  2016-10-26 01:20:27+00:00               340.0   \n",
       "1                  129.0  2016-10-26 01:23:29+00:00               340.0   \n",
       "2                  129.0  2016-10-26 01:35:18+00:00               340.0   \n",
       "3                  128.0  2016-10-26 01:56:21+00:00               342.0   \n",
       "4                  127.0  2016-10-26 02:11:24+00:00               348.0   \n",
       "\n",
       "     row     speed  \n",
       "0  353.0  0.666667  \n",
       "1  353.0  0.666667  \n",
       "2  349.0  0.666667  \n",
       "3  342.0  0.333333  \n",
       "4  340.0  0.333333  "
      ]
     },
     "execution_count": 13,
     "metadata": {},
     "output_type": "execute_result"
    }
   ],
   "source": [
    "import pandas as pd\n",
    "\n",
    "df = pd.read_csv('source/ais_data_next_status_60.csv')\n",
    "df.head()"
   ]
  },
  {
   "cell_type": "code",
   "execution_count": 11,
   "metadata": {},
   "outputs": [
    {
     "data": {
      "text/plain": [
       "1.0"
      ]
     },
     "execution_count": 11,
     "metadata": {},
     "output_type": "execute_result"
    }
   ],
   "source": [
    "df['speed'].max()"
   ]
  },
  {
   "cell_type": "code",
   "execution_count": 7,
   "metadata": {},
   "outputs": [
    {
     "data": {
      "image/png": "[encoded data removed]",
      "text/plain": [
       "<Figure size 432x288 with 1 Axes>"
      ]
     },
     "metadata": {
      "needs_background": "light"
     },
     "output_type": "display_data"
    }
   ],
   "source": [
    "import matplotlib.pyplot as plt\n",
    "\n",
    "plt.scatter(df['mmsi'], df['speed'])\n",
    "plt.xlabel('mmsi')\n",
    "plt.ylabel('speed')\n",
    "plt.show()"
   ]
  },
  {
   "cell_type": "code",
   "execution_count": 9,
   "metadata": {},
   "outputs": [
    {
     "data": {
      "image/png": "[encoded data removed]",
      "text/plain": [
       "<Figure size 432x288 with 1 Axes>"
      ]
     },
     "metadata": {
      "needs_background": "light"
     },
     "output_type": "display_data"
    }
   ],
   "source": [
    "plt.hist(df['speed'],bins=4)\n",
    "plt.xlabel('speed')\n",
    "plt.ylabel('frequency')\n",
    "plt.show()"
   ]
  },
  {
   "cell_type": "code",
   "execution_count": null,
   "metadata": {},
   "outputs": [],
   "source": []
  }
 ],
 "metadata": {
  "kernelspec": {
   "display_name": "Python 3",
   "language": "python",
   "name": "python3"
  },
  "language_info": {
   "codemirror_mode": {
    "name": "ipython",
    "version": 3
   },
   "file_extension": ".py",
   "mimetype": "text/x-python",
   "name": "python",
   "nbconvert_exporter": "python",
   "pygments_lexer": "ipython3",
   "version": "3.8.1"
  }
 },
 "nbformat": 4,
 "nbformat_minor": 4
}
